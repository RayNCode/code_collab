{
  "nbformat": 4,
  "nbformat_minor": 0,
  "metadata": {
    "colab": {
      "provenance": [],
      "include_colab_link": true
    },
    "kernelspec": {
      "name": "python3",
      "display_name": "Python 3"
    },
    "language_info": {
      "name": "python"
    }
  },
  "cells": [
    {
      "cell_type": "markdown",
      "metadata": {
        "id": "view-in-github",
        "colab_type": "text"
      },
      "source": [
        "<a href=\"https://colab.research.google.com/github/RayNCode/code_collab/blob/main/FinalNotebook_2.ipynb\" target=\"_parent\"><img src=\"https://colab.research.google.com/assets/colab-badge.svg\" alt=\"Open In Colab\"/></a>"
      ]
    },
    {
      "cell_type": "code",
      "execution_count": 66,
      "metadata": {
        "id": "7e58hofB62gm"
      },
      "outputs": [],
      "source": [
        "import pandas as pd\n",
        "import numpy as np\n",
        "from sklearn.experimental import enable_iterative_imputer\n",
        "from sklearn.impute import IterativeImputer\n",
        "from sklearn.ensemble import RandomForestRegressor"
      ]
    },
    {
      "cell_type": "code",
      "source": [
        "from sklearn.compose import make_column_transformer\n",
        "from sklearn.preprocessing import OrdinalEncoder\n",
        "from sklearn.preprocessing import OneHotEncoder\n",
        "from sklearn.linear_model import LogisticRegression\n",
        "from sklearn.pipeline import make_pipeline\n",
        "from sklearn.model_selection import cross_val_score\n",
        "from itertools import combinations\n",
        "from sklearn.model_selection import cross_validate\n",
        "from sklearn.model_selection import StratifiedKFold\n",
        "from sklearn.model_selection import GridSearchCV\n",
        "from sklearn.model_selection import RandomizedSearchCV\n",
        "\n",
        "from sklearn.metrics import ConfusionMatrixDisplay\n",
        "from sklearn.metrics import classification_report\n"
      ],
      "metadata": {
        "id": "_0mu4RpR6Hkp"
      },
      "execution_count": 67,
      "outputs": []
    },
    {
      "cell_type": "code",
      "source": [
        "data_url = \"https://raw.githubusercontent.com/RayNCode/code_collab/main/project-3-files\""
      ],
      "metadata": {
        "id": "oh0T8TvEwZdH"
      },
      "execution_count": 68,
      "outputs": []
    },
    {
      "cell_type": "code",
      "source": [
        "learn_dataset = pd.read_csv(f\"{data_url}/learn_dataset.csv\").copy()\n",
        "learn_dataset_Emp_contract = pd.read_csv(f\"{data_url}/learn_dataset_Emp_contract.csv\").copy()\n",
        "learn_dataset_sport = pd.read_csv(f\"{data_url}/learn_dataset_sport.csv\").copy()\n",
        "learn_dataset_job = pd.read_csv(f\"{data_url}/learn_dataset_job.csv\").copy()\n",
        "\n",
        "code_work_description_map = pd.read_csv(f\"{data_url}/code_work_description_map.csv\").copy()\n",
        "city_adm = pd.read_csv(f\"{data_url}/city_adm.csv\").copy()\n",
        "code_Club = pd.read_csv(f\"{data_url}/code_Club.csv\").copy()\n",
        "departments = pd.read_csv(f\"{data_url}/departments.csv\").copy()\n",
        "\n",
        "test_dataset_job = pd.read_csv(f\"{data_url}/test_dataset_job.csv\").copy()\n",
        "test_dataset = pd.read_csv(f\"{data_url}/test_dataset.csv\").copy()\n",
        "test_dataset_Emp_contract = pd.read_csv(f\"{data_url}/test_dataset_Emp_contract.csv\").copy()\n",
        "test_dataset_sport = pd.read_csv(f\"{data_url}/test_dataset_sport.csv\").copy()"
      ],
      "metadata": {
        "id": "FLvZQklAypEu"
      },
      "execution_count": 69,
      "outputs": []
    },
    {
      "cell_type": "code",
      "source": [
        "def preprocess_data_base(learn_dataset_job, work_desc, learn_dataset, dept_code, emp_contract, learn_dataset_sport, code_club, departments):\n",
        "    # Chargement et fusion des datasets de travail\n",
        "    merged_df = pd.merge(learn_dataset_job, work_desc, left_on='work_description', right_on='N3', how='left')\n",
        "\n",
        "    # Conversion des colonnes N2, N1 et N3 en chaînes de caractères\n",
        "    merged_df['N2'] = merged_df['N2'].astype(str)\n",
        "    merged_df['N1'] = merged_df['N1'].astype(str)\n",
        "    merged_df['N3'] = merged_df['N3'].astype(str)\n",
        "\n",
        "    # Remplir les valeurs manquantes\n",
        "    merged_df['N2'].fillna(merged_df['N3'].str[:-2], inplace=True)\n",
        "    merged_df['N1'].fillna(merged_df['N2'].str[:-1], inplace=True)\n",
        "\n",
        "    # Fusion avec d'autres datasets\n",
        "    data_2 = pd.merge(learn_dataset, merged_df, on=\"Id\", how=\"left\")\n",
        "    df_1 = data_2.merge(dept_code, on='insee_code')\n",
        "    df_2 = df_1.merge(emp_contract, on='Id', how='left')\n",
        "    df_3 = df_2.merge(learn_dataset_sport, on='Id', how='left')\n",
        "    df_4 = df_3.merge(code_Club, left_on='Club', right_on='Code', how='left')\n",
        "    final_df = df_4.merge(departments, on='dep', how='left')\n",
        "\n",
        "\n",
        "    return final_df\n"
      ],
      "metadata": {
        "id": "3_U-oHI37lNP"
      },
      "execution_count": 70,
      "outputs": []
    },
    {
      "cell_type": "code",
      "source": [
        "def preprocess_learn_test(final_df): #ajouter l'ID quelque part\n",
        "    # Séparer la variable cible si elle est présente\n",
        "    if 'target' in final_df.columns:\n",
        "        y = final_df['target'].copy()\n",
        "        y = np.where(y == 'B', 1, 0)\n",
        "        X = final_df.drop(['target'], axis='columns')\n",
        "    else:\n",
        "        X = final_df.copy()\n",
        "        X_test_id = X['Id'].copy()\n",
        "\n",
        "    # Suppression des colonnes non nécessaires\n",
        "    X = X.drop([\"Id\", 'Nom de la commune', 'Nom fédération', 'Nom catégorie', 'Nom du département', 'Code'], axis=\"columns\")\n",
        "\n",
        "\n",
        "    # Imputation des valeurs manquantes - Ce n'est certainement pas la façon la plus efficiente de le faire. À voir si l'on change.\n",
        "    # imputer = IterativeImputer(estimator=RandomForestRegressor(), max_iter=50, random_state=0)\n",
        "    # columns_to_impute = ['Working_hours', 'EMOLUMENT']\n",
        "    # X[columns_to_impute] = imputer.fit_transform(X[columns_to_impute])\n",
        "\n",
        "    # On devrait essayer avec XGB et voir les performances également.\n",
        "    # imputer = IterativeImputer(estimator=XGBRegressor(), max_iter=50, random_state=0)\n",
        "    # columns_to_impute = ['Working_hours', 'EMOLUMENT']\n",
        "    # X[columns_to_impute] = imputer.fit_transform(X[columns_to_impute])\n",
        "\n",
        "    if 'target' in final_df.columns:\n",
        "      return X, y\n",
        "    else:\n",
        "      return X, X_test_id\n"
      ],
      "metadata": {
        "id": "ldQlzwI2-5PV"
      },
      "execution_count": 71,
      "outputs": []
    },
    {
      "cell_type": "code",
      "source": [
        "learn_dataset_base = preprocess_data_base(learn_dataset_job,\n",
        "                                          code_work_description_map,\n",
        "                                          learn_dataset,\n",
        "                                          city_adm,\n",
        "                                          learn_dataset_Emp_contract,\n",
        "                                          learn_dataset_sport,\n",
        "                                          code_Club,\n",
        "                                          departments)\n",
        "test_dataset_base = preprocess_data_base(test_dataset_job,\n",
        "                                         code_work_description_map,\n",
        "                                         test_dataset,\n",
        "                                         city_adm,\n",
        "                                         test_dataset_Emp_contract,\n",
        "                                         test_dataset_sport,\n",
        "                                         code_Club,\n",
        "                                         departments)"
      ],
      "metadata": {
        "id": "EHI6cVyVAbf1"
      },
      "execution_count": 72,
      "outputs": []
    },
    {
      "cell_type": "code",
      "source": [
        "X_train, y_train = preprocess_learn_test(learn_dataset_base)\n",
        "X_testing, X_testing_id = preprocess_learn_test(test_dataset_base)\n",
        "print(\"Shape de X_train:\", X_train.shape)\n",
        "print(\"Shape de y_test:\", y_train.shape)\n",
        "print(\"Shape de X_test:\", X_testing.shape)\n",
        "\n",
        "print(\"Valeurs nulles dans X_train:\")\n",
        "print(X_train.isnull().sum())\n",
        "\n",
        "print(\"\\nValeurs nulles dans X_test:\")\n",
        "print(X_testing.isnull().sum())"
      ],
      "metadata": {
        "id": "piqVKOBPicYK"
      },
      "execution_count": null,
      "outputs": []
    },
    {
      "cell_type": "code",
      "source": [
        "from sklearn.pipeline import Pipeline\n",
        "from sklearn.ensemble import RandomForestRegressor\n",
        "from sklearn.experimental import enable_iterative_imputer\n",
        "from sklearn.impute import IterativeImputer\n",
        "from sklearn.compose import ColumnTransformer\n",
        "from sklearn.compose import make_column_transformer\n",
        "from sklearn.preprocessing import OneHotEncoder, OrdinalEncoder\n",
        "from xgboost import XGBClassifier\n",
        "from sklearn.pipeline import Pipeline\n",
        "from sklearn.utils import shuffle\n",
        "\n",
        "# # Mélange de X_train et y_train\n",
        "# X_train, y_train = shuffle(X_train, y_train, random_state=42)"
      ],
      "metadata": {
        "id": "Wx8eaOewGmzj"
      },
      "execution_count": 79,
      "outputs": []
    },
    {
      "cell_type": "code",
      "source": [
        "from sklearn.model_selection import train_test_split\n",
        "from sklearn.compose import ColumnTransformer\n",
        "from sklearn.preprocessing import StandardScaler, OneHotEncoder, OrdinalEncoder, FunctionTransformer\n",
        "from sklearn.impute import SimpleImputer, IterativeImputer\n",
        "from sklearn.experimental import enable_iterative_imputer"
      ],
      "metadata": {
        "id": "_A7dSY_25k6W"
      },
      "execution_count": 87,
      "outputs": []
    },
    {
      "cell_type": "code",
      "source": [
        "X_train, X_test, y_train, y_test = train_test_split(X_train, y_train, test_size=0.2, random_state=0, stratify=y_train)"
      ],
      "metadata": {
        "id": "0lDEeG7a5GZT"
      },
      "execution_count": 81,
      "outputs": []
    },
    {
      "cell_type": "code",
      "source": [
        "numeric_features = ['EMOLUMENT', 'Working_hours']\n",
        "recode_features = ['Categorie', 'REG']\n",
        "one_hot_features = ['insee_code', \"is_student\", \"OCCUPATION_42\", \"ACTIVITY_TYPE\", \"household\", \"sex\", \"employer_category\", \"job_category\", \"Terms_of_emp\", \"Eco_sect\", \"Job_dep\", \"WORK_CONDITION\", \"work_description\", \"N3\", \"N2\", \"N1\", \"town_type\", \"dep\", \"Emp_contract\", \"Club\", \"Categorie\", 'REG']\n",
        "\n",
        "preprocessing = ColumnTransformer(\n",
        "      transformers=[\n",
        "            ('type_conversion', Pipeline(steps=[\n",
        "                ('convert_to_str', FunctionTransformer(lambda x: x.astype(str), validate=False)),\n",
        "                ('convert_to_object', FunctionTransformer(lambda x: x.astype('object'), validate=False))\n",
        "                ]), recode_features),\n",
        "            ('custom_condition', Pipeline(steps=[\n",
        "                ('condition', FunctionTransformer(lambda x: np.where(x != \"TYPE1|1\", x, 0.0), validate=False))\n",
        "                 ]), numeric_features),\n",
        "            ('fill_missing_categorical', SimpleImputer(strategy='constant', fill_value='None'), one_hot_features),\n",
        "            ('imputer', IterativeImputer(estimator=RandomForestRegressor(), max_iter=50, random_state=0), numeric_features),\n",
        "            ('onehot', OneHotEncoder(handle_unknown='ignore'), one_hot_features),\n",
        "            ('ordinal', OrdinalEncoder(), [\"Highest_degree\", \"EMPLOYEE_COUNT\"]),\n",
        "        ],\n",
        "        remainder='passthrough'\n",
        "    )\n",
        "\n",
        "full_pipeline = Pipeline([\n",
        "    (\"preprocessing\", preprocessing),\n",
        "    (\"xgbclassifier\", XGBClassifier(random_state=42))\n",
        "])\n",
        "\n",
        "xgb_param_grid = {\n",
        "    'xgbclassifier__subsample': np.arange(0.7, 1.2, 0.01),\n",
        "    'xgbclassifier__scale_pos_weight': np.arange(0.7, 1, 0.01),\n",
        "    'xgbclassifier__reg_lambda': np.arange(0.08, 0.10, 0.01),\n",
        "    'xgbclassifier__reg_alpha': np.arange(0.01, 1, 0.01),\n",
        "    'xgbclassifier__n_estimators': np.arange(100, 200, 1),\n",
        "    'xgbclassifier__min_child_weight': np.arange(3, 4, 0.01),\n",
        "    'xgbclassifier__max_depth': np.arange(4, 6, 1),\n",
        "    'xgbclassifier__max_delta_step': np.arange(1.5, 2, 0.01),\n",
        "    'xgbclassifier__learning_rate': np.arange(0.7, 1, 0.01),\n",
        "    'xgbclassifier__gamma': np.arange(0.8, 1, 0.01),\n",
        "    'xgbclassifier__colsample_bytree': np.arange(0.65, 0.75, 0.01),\n",
        "    'xgbclassifier__colsample_bylevel': np.arange(0.8, 1, 0.01),\n",
        "    }\n",
        "\n",
        "full_pipeline\n",
        "# cv = StratifiedKFold(n_splits=5, shuffle=True, random_state=0)\n",
        "\n",
        "# grid_search = RandomizedSearchCV(\n",
        "#         estimator=full_pipeline,\n",
        "#         param_distributions=xgb_param_grid,\n",
        "#         cv=cv,\n",
        "#         scoring='accuracy',\n",
        "#         n_iter=50,\n",
        "#         n_jobs=-1)\n",
        "\n",
        "# grid_search.fit(X_train, y_train)"
      ],
      "metadata": {
        "colab": {
          "base_uri": "https://localhost:8080/",
          "height": 281
        },
        "id": "hDxO8XsZCCin",
        "outputId": "e44acdbd-2da7-42b9-d56b-23e62deada85"
      },
      "execution_count": 91,
      "outputs": [
        {
          "output_type": "execute_result",
          "data": {
            "text/plain": [
              "Pipeline(steps=[('preprocessing',\n",
              "                 ColumnTransformer(remainder='passthrough',\n",
              "                                   transformers=[('type_conversion',\n",
              "                                                  Pipeline(steps=[('convert_to_str',\n",
              "                                                                   FunctionTransformer(func=<function <lambda> at 0x7e82eefddc60>)),\n",
              "                                                                  ('convert_to_object',\n",
              "                                                                   FunctionTransformer(func=<function <lambda> at 0x7e82eefdea70>))]),\n",
              "                                                  ['Categorie', 'REG']),\n",
              "                                                 ('custom_condition',\n",
              "                                                  Pipeline(steps=[('co...\n",
              "                               feature_types=None, gamma=None, grow_policy=None,\n",
              "                               importance_type=None,\n",
              "                               interaction_constraints=None, learning_rate=None,\n",
              "                               max_bin=None, max_cat_threshold=None,\n",
              "                               max_cat_to_onehot=None, max_delta_step=None,\n",
              "                               max_depth=None, max_leaves=None,\n",
              "                               min_child_weight=None, missing=nan,\n",
              "                               monotone_constraints=None, multi_strategy=None,\n",
              "                               n_estimators=None, n_jobs=None,\n",
              "                               num_parallel_tree=None, random_state=42, ...))])"
            ],
            "text/html": [
              "<style>#sk-container-id-3 {color: black;background-color: white;}#sk-container-id-3 pre{padding: 0;}#sk-container-id-3 div.sk-toggleable {background-color: white;}#sk-container-id-3 label.sk-toggleable__label {cursor: pointer;display: block;width: 100%;margin-bottom: 0;padding: 0.3em;box-sizing: border-box;text-align: center;}#sk-container-id-3 label.sk-toggleable__label-arrow:before {content: \"▸\";float: left;margin-right: 0.25em;color: #696969;}#sk-container-id-3 label.sk-toggleable__label-arrow:hover:before {color: black;}#sk-container-id-3 div.sk-estimator:hover label.sk-toggleable__label-arrow:before {color: black;}#sk-container-id-3 div.sk-toggleable__content {max-height: 0;max-width: 0;overflow: hidden;text-align: left;background-color: #f0f8ff;}#sk-container-id-3 div.sk-toggleable__content pre {margin: 0.2em;color: black;border-radius: 0.25em;background-color: #f0f8ff;}#sk-container-id-3 input.sk-toggleable__control:checked~div.sk-toggleable__content {max-height: 200px;max-width: 100%;overflow: auto;}#sk-container-id-3 input.sk-toggleable__control:checked~label.sk-toggleable__label-arrow:before {content: \"▾\";}#sk-container-id-3 div.sk-estimator input.sk-toggleable__control:checked~label.sk-toggleable__label {background-color: #d4ebff;}#sk-container-id-3 div.sk-label input.sk-toggleable__control:checked~label.sk-toggleable__label {background-color: #d4ebff;}#sk-container-id-3 input.sk-hidden--visually {border: 0;clip: rect(1px 1px 1px 1px);clip: rect(1px, 1px, 1px, 1px);height: 1px;margin: -1px;overflow: hidden;padding: 0;position: absolute;width: 1px;}#sk-container-id-3 div.sk-estimator {font-family: monospace;background-color: #f0f8ff;border: 1px dotted black;border-radius: 0.25em;box-sizing: border-box;margin-bottom: 0.5em;}#sk-container-id-3 div.sk-estimator:hover {background-color: #d4ebff;}#sk-container-id-3 div.sk-parallel-item::after {content: \"\";width: 100%;border-bottom: 1px solid gray;flex-grow: 1;}#sk-container-id-3 div.sk-label:hover label.sk-toggleable__label {background-color: #d4ebff;}#sk-container-id-3 div.sk-serial::before {content: \"\";position: absolute;border-left: 1px solid gray;box-sizing: border-box;top: 0;bottom: 0;left: 50%;z-index: 0;}#sk-container-id-3 div.sk-serial {display: flex;flex-direction: column;align-items: center;background-color: white;padding-right: 0.2em;padding-left: 0.2em;position: relative;}#sk-container-id-3 div.sk-item {position: relative;z-index: 1;}#sk-container-id-3 div.sk-parallel {display: flex;align-items: stretch;justify-content: center;background-color: white;position: relative;}#sk-container-id-3 div.sk-item::before, #sk-container-id-3 div.sk-parallel-item::before {content: \"\";position: absolute;border-left: 1px solid gray;box-sizing: border-box;top: 0;bottom: 0;left: 50%;z-index: -1;}#sk-container-id-3 div.sk-parallel-item {display: flex;flex-direction: column;z-index: 1;position: relative;background-color: white;}#sk-container-id-3 div.sk-parallel-item:first-child::after {align-self: flex-end;width: 50%;}#sk-container-id-3 div.sk-parallel-item:last-child::after {align-self: flex-start;width: 50%;}#sk-container-id-3 div.sk-parallel-item:only-child::after {width: 0;}#sk-container-id-3 div.sk-dashed-wrapped {border: 1px dashed gray;margin: 0 0.4em 0.5em 0.4em;box-sizing: border-box;padding-bottom: 0.4em;background-color: white;}#sk-container-id-3 div.sk-label label {font-family: monospace;font-weight: bold;display: inline-block;line-height: 1.2em;}#sk-container-id-3 div.sk-label-container {text-align: center;}#sk-container-id-3 div.sk-container {/* jupyter's `normalize.less` sets `[hidden] { display: none; }` but bootstrap.min.css set `[hidden] { display: none !important; }` so we also need the `!important` here to be able to override the default hidden behavior on the sphinx rendered scikit-learn.org. See: https://github.com/scikit-learn/scikit-learn/issues/21755 */display: inline-block !important;position: relative;}#sk-container-id-3 div.sk-text-repr-fallback {display: none;}</style><div id=\"sk-container-id-3\" class=\"sk-top-container\"><div class=\"sk-text-repr-fallback\"><pre>Pipeline(steps=[(&#x27;preprocessing&#x27;,\n",
              "                 ColumnTransformer(remainder=&#x27;passthrough&#x27;,\n",
              "                                   transformers=[(&#x27;type_conversion&#x27;,\n",
              "                                                  Pipeline(steps=[(&#x27;convert_to_str&#x27;,\n",
              "                                                                   FunctionTransformer(func=&lt;function &lt;lambda&gt; at 0x7e82eefddc60&gt;)),\n",
              "                                                                  (&#x27;convert_to_object&#x27;,\n",
              "                                                                   FunctionTransformer(func=&lt;function &lt;lambda&gt; at 0x7e82eefdea70&gt;))]),\n",
              "                                                  [&#x27;Categorie&#x27;, &#x27;REG&#x27;]),\n",
              "                                                 (&#x27;custom_condition&#x27;,\n",
              "                                                  Pipeline(steps=[(&#x27;co...\n",
              "                               feature_types=None, gamma=None, grow_policy=None,\n",
              "                               importance_type=None,\n",
              "                               interaction_constraints=None, learning_rate=None,\n",
              "                               max_bin=None, max_cat_threshold=None,\n",
              "                               max_cat_to_onehot=None, max_delta_step=None,\n",
              "                               max_depth=None, max_leaves=None,\n",
              "                               min_child_weight=None, missing=nan,\n",
              "                               monotone_constraints=None, multi_strategy=None,\n",
              "                               n_estimators=None, n_jobs=None,\n",
              "                               num_parallel_tree=None, random_state=42, ...))])</pre><b>In a Jupyter environment, please rerun this cell to show the HTML representation or trust the notebook. <br />On GitHub, the HTML representation is unable to render, please try loading this page with nbviewer.org.</b></div><div class=\"sk-container\" hidden><div class=\"sk-item sk-dashed-wrapped\"><div class=\"sk-label-container\"><div class=\"sk-label sk-toggleable\"><input class=\"sk-toggleable__control sk-hidden--visually\" id=\"sk-estimator-id-39\" type=\"checkbox\" ><label for=\"sk-estimator-id-39\" class=\"sk-toggleable__label sk-toggleable__label-arrow\">Pipeline</label><div class=\"sk-toggleable__content\"><pre>Pipeline(steps=[(&#x27;preprocessing&#x27;,\n",
              "                 ColumnTransformer(remainder=&#x27;passthrough&#x27;,\n",
              "                                   transformers=[(&#x27;type_conversion&#x27;,\n",
              "                                                  Pipeline(steps=[(&#x27;convert_to_str&#x27;,\n",
              "                                                                   FunctionTransformer(func=&lt;function &lt;lambda&gt; at 0x7e82eefddc60&gt;)),\n",
              "                                                                  (&#x27;convert_to_object&#x27;,\n",
              "                                                                   FunctionTransformer(func=&lt;function &lt;lambda&gt; at 0x7e82eefdea70&gt;))]),\n",
              "                                                  [&#x27;Categorie&#x27;, &#x27;REG&#x27;]),\n",
              "                                                 (&#x27;custom_condition&#x27;,\n",
              "                                                  Pipeline(steps=[(&#x27;co...\n",
              "                               feature_types=None, gamma=None, grow_policy=None,\n",
              "                               importance_type=None,\n",
              "                               interaction_constraints=None, learning_rate=None,\n",
              "                               max_bin=None, max_cat_threshold=None,\n",
              "                               max_cat_to_onehot=None, max_delta_step=None,\n",
              "                               max_depth=None, max_leaves=None,\n",
              "                               min_child_weight=None, missing=nan,\n",
              "                               monotone_constraints=None, multi_strategy=None,\n",
              "                               n_estimators=None, n_jobs=None,\n",
              "                               num_parallel_tree=None, random_state=42, ...))])</pre></div></div></div><div class=\"sk-serial\"><div class=\"sk-item sk-dashed-wrapped\"><div class=\"sk-label-container\"><div class=\"sk-label sk-toggleable\"><input class=\"sk-toggleable__control sk-hidden--visually\" id=\"sk-estimator-id-40\" type=\"checkbox\" ><label for=\"sk-estimator-id-40\" class=\"sk-toggleable__label sk-toggleable__label-arrow\">preprocessing: ColumnTransformer</label><div class=\"sk-toggleable__content\"><pre>ColumnTransformer(remainder=&#x27;passthrough&#x27;,\n",
              "                  transformers=[(&#x27;type_conversion&#x27;,\n",
              "                                 Pipeline(steps=[(&#x27;convert_to_str&#x27;,\n",
              "                                                  FunctionTransformer(func=&lt;function &lt;lambda&gt; at 0x7e82eefddc60&gt;)),\n",
              "                                                 (&#x27;convert_to_object&#x27;,\n",
              "                                                  FunctionTransformer(func=&lt;function &lt;lambda&gt; at 0x7e82eefdea70&gt;))]),\n",
              "                                 [&#x27;Categorie&#x27;, &#x27;REG&#x27;]),\n",
              "                                (&#x27;custom_condition&#x27;,\n",
              "                                 Pipeline(steps=[(&#x27;condition&#x27;,\n",
              "                                                  FunctionTransformer(func...\n",
              "                                 OneHotEncoder(handle_unknown=&#x27;ignore&#x27;),\n",
              "                                 [&#x27;insee_code&#x27;, &#x27;is_student&#x27;, &#x27;OCCUPATION_42&#x27;,\n",
              "                                  &#x27;ACTIVITY_TYPE&#x27;, &#x27;household&#x27;, &#x27;sex&#x27;,\n",
              "                                  &#x27;employer_category&#x27;, &#x27;job_category&#x27;,\n",
              "                                  &#x27;Terms_of_emp&#x27;, &#x27;Eco_sect&#x27;, &#x27;Job_dep&#x27;,\n",
              "                                  &#x27;WORK_CONDITION&#x27;, &#x27;work_description&#x27;, &#x27;N3&#x27;,\n",
              "                                  &#x27;N2&#x27;, &#x27;N1&#x27;, &#x27;town_type&#x27;, &#x27;dep&#x27;,\n",
              "                                  &#x27;Emp_contract&#x27;, &#x27;Club&#x27;, &#x27;Categorie&#x27;, &#x27;REG&#x27;]),\n",
              "                                (&#x27;ordinal&#x27;, OrdinalEncoder(),\n",
              "                                 [&#x27;Highest_degree&#x27;, &#x27;EMPLOYEE_COUNT&#x27;])])</pre></div></div></div><div class=\"sk-parallel\"><div class=\"sk-parallel-item\"><div class=\"sk-item\"><div class=\"sk-label-container\"><div class=\"sk-label sk-toggleable\"><input class=\"sk-toggleable__control sk-hidden--visually\" id=\"sk-estimator-id-41\" type=\"checkbox\" ><label for=\"sk-estimator-id-41\" class=\"sk-toggleable__label sk-toggleable__label-arrow\">type_conversion</label><div class=\"sk-toggleable__content\"><pre>[&#x27;Categorie&#x27;, &#x27;REG&#x27;]</pre></div></div></div><div class=\"sk-serial\"><div class=\"sk-item\"><div class=\"sk-serial\"><div class=\"sk-item\"><div class=\"sk-estimator sk-toggleable\"><input class=\"sk-toggleable__control sk-hidden--visually\" id=\"sk-estimator-id-42\" type=\"checkbox\" ><label for=\"sk-estimator-id-42\" class=\"sk-toggleable__label sk-toggleable__label-arrow\">FunctionTransformer</label><div class=\"sk-toggleable__content\"><pre>FunctionTransformer(func=&lt;function &lt;lambda&gt; at 0x7e82eefddc60&gt;)</pre></div></div></div><div class=\"sk-item\"><div class=\"sk-estimator sk-toggleable\"><input class=\"sk-toggleable__control sk-hidden--visually\" id=\"sk-estimator-id-43\" type=\"checkbox\" ><label for=\"sk-estimator-id-43\" class=\"sk-toggleable__label sk-toggleable__label-arrow\">FunctionTransformer</label><div class=\"sk-toggleable__content\"><pre>FunctionTransformer(func=&lt;function &lt;lambda&gt; at 0x7e82eefdea70&gt;)</pre></div></div></div></div></div></div></div></div><div class=\"sk-parallel-item\"><div class=\"sk-item\"><div class=\"sk-label-container\"><div class=\"sk-label sk-toggleable\"><input class=\"sk-toggleable__control sk-hidden--visually\" id=\"sk-estimator-id-44\" type=\"checkbox\" ><label for=\"sk-estimator-id-44\" class=\"sk-toggleable__label sk-toggleable__label-arrow\">custom_condition</label><div class=\"sk-toggleable__content\"><pre>[&#x27;EMOLUMENT&#x27;, &#x27;Working_hours&#x27;]</pre></div></div></div><div class=\"sk-serial\"><div class=\"sk-item\"><div class=\"sk-serial\"><div class=\"sk-item\"><div class=\"sk-estimator sk-toggleable\"><input class=\"sk-toggleable__control sk-hidden--visually\" id=\"sk-estimator-id-45\" type=\"checkbox\" ><label for=\"sk-estimator-id-45\" class=\"sk-toggleable__label sk-toggleable__label-arrow\">FunctionTransformer</label><div class=\"sk-toggleable__content\"><pre>FunctionTransformer(func=&lt;function &lt;lambda&gt; at 0x7e82eefdd360&gt;)</pre></div></div></div></div></div></div></div></div><div class=\"sk-parallel-item\"><div class=\"sk-item\"><div class=\"sk-label-container\"><div class=\"sk-label sk-toggleable\"><input class=\"sk-toggleable__control sk-hidden--visually\" id=\"sk-estimator-id-46\" type=\"checkbox\" ><label for=\"sk-estimator-id-46\" class=\"sk-toggleable__label sk-toggleable__label-arrow\">fill_missing_categorical</label><div class=\"sk-toggleable__content\"><pre>[&#x27;insee_code&#x27;, &#x27;is_student&#x27;, &#x27;OCCUPATION_42&#x27;, &#x27;ACTIVITY_TYPE&#x27;, &#x27;household&#x27;, &#x27;sex&#x27;, &#x27;employer_category&#x27;, &#x27;job_category&#x27;, &#x27;Terms_of_emp&#x27;, &#x27;Eco_sect&#x27;, &#x27;Job_dep&#x27;, &#x27;WORK_CONDITION&#x27;, &#x27;work_description&#x27;, &#x27;N3&#x27;, &#x27;N2&#x27;, &#x27;N1&#x27;, &#x27;town_type&#x27;, &#x27;dep&#x27;, &#x27;Emp_contract&#x27;, &#x27;Club&#x27;, &#x27;Categorie&#x27;, &#x27;REG&#x27;]</pre></div></div></div><div class=\"sk-serial\"><div class=\"sk-item\"><div class=\"sk-estimator sk-toggleable\"><input class=\"sk-toggleable__control sk-hidden--visually\" id=\"sk-estimator-id-47\" type=\"checkbox\" ><label for=\"sk-estimator-id-47\" class=\"sk-toggleable__label sk-toggleable__label-arrow\">SimpleImputer</label><div class=\"sk-toggleable__content\"><pre>SimpleImputer(fill_value=&#x27;None&#x27;, strategy=&#x27;constant&#x27;)</pre></div></div></div></div></div></div><div class=\"sk-parallel-item\"><div class=\"sk-item\"><div class=\"sk-label-container\"><div class=\"sk-label sk-toggleable\"><input class=\"sk-toggleable__control sk-hidden--visually\" id=\"sk-estimator-id-48\" type=\"checkbox\" ><label for=\"sk-estimator-id-48\" class=\"sk-toggleable__label sk-toggleable__label-arrow\">imputer</label><div class=\"sk-toggleable__content\"><pre>[&#x27;EMOLUMENT&#x27;, &#x27;Working_hours&#x27;]</pre></div></div></div><div class=\"sk-serial\"><div class=\"sk-item sk-dashed-wrapped\"><div class=\"sk-parallel\"><div class=\"sk-parallel-item\"><div class=\"sk-item\"><div class=\"sk-label-container\"><div class=\"sk-label sk-toggleable\"><input class=\"sk-toggleable__control sk-hidden--visually\" id=\"sk-estimator-id-49\" type=\"checkbox\" ><label for=\"sk-estimator-id-49\" class=\"sk-toggleable__label sk-toggleable__label-arrow\">estimator: RandomForestRegressor</label><div class=\"sk-toggleable__content\"><pre>RandomForestRegressor()</pre></div></div></div><div class=\"sk-serial\"><div class=\"sk-item\"><div class=\"sk-estimator sk-toggleable\"><input class=\"sk-toggleable__control sk-hidden--visually\" id=\"sk-estimator-id-50\" type=\"checkbox\" ><label for=\"sk-estimator-id-50\" class=\"sk-toggleable__label sk-toggleable__label-arrow\">RandomForestRegressor</label><div class=\"sk-toggleable__content\"><pre>RandomForestRegressor()</pre></div></div></div></div></div></div></div></div></div></div></div><div class=\"sk-parallel-item\"><div class=\"sk-item\"><div class=\"sk-label-container\"><div class=\"sk-label sk-toggleable\"><input class=\"sk-toggleable__control sk-hidden--visually\" id=\"sk-estimator-id-51\" type=\"checkbox\" ><label for=\"sk-estimator-id-51\" class=\"sk-toggleable__label sk-toggleable__label-arrow\">onehot</label><div class=\"sk-toggleable__content\"><pre>[&#x27;insee_code&#x27;, &#x27;is_student&#x27;, &#x27;OCCUPATION_42&#x27;, &#x27;ACTIVITY_TYPE&#x27;, &#x27;household&#x27;, &#x27;sex&#x27;, &#x27;employer_category&#x27;, &#x27;job_category&#x27;, &#x27;Terms_of_emp&#x27;, &#x27;Eco_sect&#x27;, &#x27;Job_dep&#x27;, &#x27;WORK_CONDITION&#x27;, &#x27;work_description&#x27;, &#x27;N3&#x27;, &#x27;N2&#x27;, &#x27;N1&#x27;, &#x27;town_type&#x27;, &#x27;dep&#x27;, &#x27;Emp_contract&#x27;, &#x27;Club&#x27;, &#x27;Categorie&#x27;, &#x27;REG&#x27;]</pre></div></div></div><div class=\"sk-serial\"><div class=\"sk-item\"><div class=\"sk-estimator sk-toggleable\"><input class=\"sk-toggleable__control sk-hidden--visually\" id=\"sk-estimator-id-52\" type=\"checkbox\" ><label for=\"sk-estimator-id-52\" class=\"sk-toggleable__label sk-toggleable__label-arrow\">OneHotEncoder</label><div class=\"sk-toggleable__content\"><pre>OneHotEncoder(handle_unknown=&#x27;ignore&#x27;)</pre></div></div></div></div></div></div><div class=\"sk-parallel-item\"><div class=\"sk-item\"><div class=\"sk-label-container\"><div class=\"sk-label sk-toggleable\"><input class=\"sk-toggleable__control sk-hidden--visually\" id=\"sk-estimator-id-53\" type=\"checkbox\" ><label for=\"sk-estimator-id-53\" class=\"sk-toggleable__label sk-toggleable__label-arrow\">ordinal</label><div class=\"sk-toggleable__content\"><pre>[&#x27;Highest_degree&#x27;, &#x27;EMPLOYEE_COUNT&#x27;]</pre></div></div></div><div class=\"sk-serial\"><div class=\"sk-item\"><div class=\"sk-estimator sk-toggleable\"><input class=\"sk-toggleable__control sk-hidden--visually\" id=\"sk-estimator-id-54\" type=\"checkbox\" ><label for=\"sk-estimator-id-54\" class=\"sk-toggleable__label sk-toggleable__label-arrow\">OrdinalEncoder</label><div class=\"sk-toggleable__content\"><pre>OrdinalEncoder()</pre></div></div></div></div></div></div><div class=\"sk-parallel-item\"><div class=\"sk-item\"><div class=\"sk-label-container\"><div class=\"sk-label sk-toggleable\"><input class=\"sk-toggleable__control sk-hidden--visually\" id=\"sk-estimator-id-55\" type=\"checkbox\" ><label for=\"sk-estimator-id-55\" class=\"sk-toggleable__label sk-toggleable__label-arrow\">remainder</label><div class=\"sk-toggleable__content\"><pre></pre></div></div></div><div class=\"sk-serial\"><div class=\"sk-item\"><div class=\"sk-estimator sk-toggleable\"><input class=\"sk-toggleable__control sk-hidden--visually\" id=\"sk-estimator-id-56\" type=\"checkbox\" ><label for=\"sk-estimator-id-56\" class=\"sk-toggleable__label sk-toggleable__label-arrow\">passthrough</label><div class=\"sk-toggleable__content\"><pre>passthrough</pre></div></div></div></div></div></div></div></div><div class=\"sk-item\"><div class=\"sk-estimator sk-toggleable\"><input class=\"sk-toggleable__control sk-hidden--visually\" id=\"sk-estimator-id-57\" type=\"checkbox\" ><label for=\"sk-estimator-id-57\" class=\"sk-toggleable__label sk-toggleable__label-arrow\">XGBClassifier</label><div class=\"sk-toggleable__content\"><pre>XGBClassifier(base_score=None, booster=None, callbacks=None,\n",
              "              colsample_bylevel=None, colsample_bynode=None,\n",
              "              colsample_bytree=None, device=None, early_stopping_rounds=None,\n",
              "              enable_categorical=False, eval_metric=None, feature_types=None,\n",
              "              gamma=None, grow_policy=None, importance_type=None,\n",
              "              interaction_constraints=None, learning_rate=None, max_bin=None,\n",
              "              max_cat_threshold=None, max_cat_to_onehot=None,\n",
              "              max_delta_step=None, max_depth=None, max_leaves=None,\n",
              "              min_child_weight=None, missing=nan, monotone_constraints=None,\n",
              "              multi_strategy=None, n_estimators=None, n_jobs=None,\n",
              "              num_parallel_tree=None, random_state=42, ...)</pre></div></div></div></div></div></div></div>"
            ]
          },
          "metadata": {},
          "execution_count": 91
        }
      ]
    },
    {
      "cell_type": "code",
      "source": [
        "def tune_hyperparameters(pipeline, param_grid, X_train, y_train):\n",
        "    \"\"\"\n",
        "    This function tunes the hyperparameters of a classifier using GridSearchCV and cross-validation\n",
        "    and returns the best classifier model with the optimal hyperparameters.\n",
        "    \"\"\"\n",
        "\n",
        "    # Create the cross-validation object using StratifiedKFold to ensure the class distribution is the same across all the folds\n",
        "    cv = StratifiedKFold(n_splits=5, shuffle=True, random_state=0)\n",
        "\n",
        "    # Create the RandomizedSearch object\n",
        "    clf_grid = RandomizedSearchCV(\n",
        "        estimator=pipeline,\n",
        "        param_distributions=param_grid,\n",
        "        cv=cv, scoring='accuracy',\n",
        "        n_iter=25,\n",
        "        n_jobs=-1)\n",
        "\n",
        "    # Fit the GridSearchCV object to the training data\n",
        "    clf_grid.fit(X_train, y_train)\n",
        "\n",
        "    # Get the best hyperparameters\n",
        "    print(\"Best hyperparameters:\\n\", clf_grid.best_params_)\n",
        "\n",
        "    # Return best_estimator_ attribute which gives us the best model that has been fitted to the training data\n",
        "    return clf_grid.best_estimator_\n"
      ],
      "metadata": {
        "id": "hs1Z4T43CVxv"
      },
      "execution_count": 92,
      "outputs": []
    },
    {
      "cell_type": "code",
      "source": [
        "xgb_opt = tune_hyperparameters(full_pipeline, xgb_param_grid, X_train, y_train)"
      ],
      "metadata": {
        "id": "TPBj5dOhChFp"
      },
      "execution_count": null,
      "outputs": []
    },
    {
      "cell_type": "code",
      "source": [
        "def metrics_calculator(clf, X_test, y_test, model_name):\n",
        "    '''\n",
        "    This function calculates all desired performance metrics for a given model on test data.\n",
        "    '''\n",
        "    y_pred = clf.predict(X_test)\n",
        "    result = pd.DataFrame(data=[accuracy_score(y_test, y_pred),\n",
        "                                precision_score(y_test, y_pred, average='macro'),\n",
        "                                recall_score(y_test, y_pred, average='macro'),\n",
        "                                f1_score(y_test, y_pred, average='macro'),\n",
        "                                roc_auc_score(y_test, clf.predict_proba(X_test)[::,1], average='macro')],\n",
        "                          index=['Accuracy','Macro Precision','Macro Recall','Macro F1-score','Macro AUC'],\n",
        "                          columns = [model_name])\n",
        "\n",
        "    result = (result * 100).round(2).astype(str) + '%'\n",
        "    return result"
      ],
      "metadata": {
        "id": "liHoEs11DER3"
      },
      "execution_count": null,
      "outputs": []
    },
    {
      "cell_type": "code",
      "source": [
        "def model_evaluation(clf, X_train, X_test, y_train, y_test, model_name):\n",
        "    '''\n",
        "    This function provides a complete report of the model's performance including classification reports and confusion matrix\n",
        "    '''\n",
        "    # Set font scale\n",
        "    sns.set(font_scale=1.5)\n",
        "\n",
        "    # Generate classification report for training set\n",
        "    y_pred_train = clf.predict(X_train)\n",
        "    print(\"\\n\\t  Classification report for training set\")\n",
        "    print(\"-\"*55)\n",
        "    print(classification_report(y_train, y_pred_train))\n",
        "\n",
        "    # Generate classification report for test set\n",
        "    y_pred_test = clf.predict(X_test)\n",
        "    print(\"\\n\\t   Classification report for test set\")\n",
        "    print(\"-\"*55)\n",
        "    print(classification_report(y_test, y_pred_test))\n",
        "    print('\\n')\n",
        "\n",
        "    # Create figure and subplots\n",
        "    fig, (ax1, ax2) = plt.subplots(1, 2, dpi=90, figsize=(12, 5))\n",
        "\n",
        "    # Plot confusion matrix for test set\n",
        "    cmap = plt.cm.Purples  # Remplace 'purple_cmap' par 'cmap'\n",
        "\n",
        "    ConfusionMatrixDisplay.from_estimator(clf, X_test, y_test, colorbar=False, cmap=cmap, ax=ax1)\n",
        "    ax1.set_title('Confusion Matrix for Test Data')\n",
        "    ax1.grid(False)\n",
        "\n",
        "    # Report desired results as a summary in the form of a table\n",
        "    result = metrics_calculator(clf, X_test, y_test, model_name)\n",
        "    table = ax2.table(cellText=result.values, colLabels=result.columns, rowLabels=result.index, loc='center')\n",
        "    table.scale(0.6, 3.6)\n",
        "    table.set_fontsize(12)\n",
        "    ax2.axis('tight')\n",
        "    # Hide the axes\n",
        "    ax2.axis('off')\n",
        "    # set the title\n",
        "    ax2.set_title('{} Performance Summary on Test Data'.format(model_name), fontsize=18)\n",
        "    # Modify color\n",
        "    for key, cell in table.get_celld().items():\n",
        "        if key[0] == 0:\n",
        "          cell.set_color('purple')\n",
        "\n",
        "    plt.tight_layout()\n",
        "    plt.show()"
      ],
      "metadata": {
        "id": "TzIpZmGXDGxd"
      },
      "execution_count": null,
      "outputs": []
    },
    {
      "cell_type": "code",
      "source": [
        "model_evaluation(xgb_opt, X_train, X_test, y_train, y_test, 'XGBoost')"
      ],
      "metadata": {
        "id": "OykH8UuLDIPk"
      },
      "execution_count": null,
      "outputs": []
    },
    {
      "cell_type": "code",
      "source": [
        "# # Paramètres pour XGBClassifier\n",
        "# xgb_params = {\n",
        "#     'subsample': 0.9000000000000001,\n",
        "#     'scale_pos_weight': 0.8300000000000001,\n",
        "#     'reg_lambda': 0.08,\n",
        "#     'reg_alpha': 0.8,\n",
        "#     'n_estimators': 151,\n",
        "#     'min_child_weight': 3.279999999999994,\n",
        "#     'max_depth': 5,\n",
        "#     'max_delta_step': 1.54,\n",
        "#     'learning_rate': 0.76,\n",
        "#     'gamma': 0.9980000000000002,\n",
        "#     'colsample_bytree': 0.7100000000000001,\n",
        "#     'colsample_bylevel': 0.9400000000000002\n",
        "# }"
      ],
      "metadata": {
        "id": "LTA8i6y5JjUI"
      },
      "execution_count": null,
      "outputs": []
    },
    {
      "cell_type": "code",
      "source": [
        "# Maintenant, X_train_preprocessed est prêt pour l'entraînement, et X_test_preprocessed est prêt pour les prédictions.\n",
        "predictions = xgb_opt.predict(X_testing)"
      ],
      "metadata": {
        "id": "1bMuOaeNQYIz"
      },
      "execution_count": null,
      "outputs": []
    },
    {
      "cell_type": "code",
      "source": [
        "predictions_labels = np.where(predictions == 1, 'B', 'G')"
      ],
      "metadata": {
        "id": "IZTWomc8M8wy"
      },
      "execution_count": null,
      "outputs": []
    },
    {
      "cell_type": "code",
      "source": [
        "# Convertir les prédictions numériques en étiquettes catégorielles\n",
        "predictions_labels = np.where(predictions == 1, 'B', 'G')\n",
        "\n",
        "# Créer un DataFrame avec les Ids et les prédictions\n",
        "results_df = pd.DataFrame({\n",
        "    'Id': X_testing_id,\n",
        "    'Prediction': predictions_labels\n",
        "})\n"
      ],
      "metadata": {
        "id": "PTRy0bq1cRfY"
      },
      "execution_count": null,
      "outputs": []
    },
    {
      "cell_type": "code",
      "source": [
        "results_df.to_csv(\"/content/predictions_new.csv\", index=False)"
      ],
      "metadata": {
        "id": "Lwhgg6Vfu0VM"
      },
      "execution_count": null,
      "outputs": []
    },
    {
      "cell_type": "code",
      "source": [
        "# Calcul du décompte des valeurs pour les prédictions\n",
        "value_counts = results_df['Prediction'].value_counts()\n",
        "\n",
        "# Affichage du décompte\n",
        "print(value_counts)\n"
      ],
      "metadata": {
        "colab": {
          "base_uri": "https://localhost:8080/"
        },
        "id": "CAMtEg8HmHZS",
        "outputId": "5ea74050-d70e-4f3a-9c70-5a9711add339"
      },
      "execution_count": null,
      "outputs": [
        {
          "output_type": "stream",
          "name": "stdout",
          "text": [
            "B    30388\n",
            "G    19604\n",
            "Name: Prediction, dtype: int64\n"
          ]
        }
      ]
    },
    {
      "cell_type": "code",
      "source": [
        "# # Création du transformateur de colonnes pour le prétraitement\n",
        "# preprocessing = make_column_transformer(\n",
        "#     (OneHotEncoder(handle_unknown='ignore'), ['insee_code', \"is_student\", \"OCCUPATION_42\", \"ACTIVITY_TYPE\", \"household\", \"sex\", \"employer_category\", \"job_category\", \"Terms_of_emp\", \"Eco_sect\", \"Job_dep\", \"WORK_CONDITION\", \"work_description\", \"N3\", \"N2\", \"N1\", \"town_type\", \"dep\", \"Emp_contract\", \"Club\", \"Categorie\", 'REG']),\n",
        "#     (OrdinalEncoder(), [\"Highest_degree\", \"EMPLOYEE_COUNT\"]),\n",
        "#     (IterativeImputer(estimator=RandomForestRegressor(), max_iter=50, random_state=0), ['Working_hours', 'EMOLUMENT']),\n",
        "#     remainder='passthrough'\n",
        "# )\n",
        "\n",
        "# # Création de l'instance XGBClassifier avec les paramètres\n",
        "# xgb_classifier = XGBClassifier(random_state=42, **xgb_params)\n",
        "\n",
        "\n",
        "# # Création du pipeline\n",
        "# pipeline = Pipeline(steps=[\n",
        "#     # ('imputer', imputer),\n",
        "#     ('preprocessor', preprocessing),\n",
        "#     ('classifier', xgb_classifier)\n",
        "# ])\n",
        "# pipeline"
      ],
      "metadata": {
        "id": "h96gEJUWl-Pz"
      },
      "execution_count": null,
      "outputs": []
    },
    {
      "cell_type": "code",
      "source": [
        "# def process_data(data, for_training=True):\n",
        "#     # Transformer de colonnes pour le prétraitement\n",
        "#     preprocessing = make_column_transformer(\n",
        "#         (IterativeImputer(estimator=RandomForestRegressor(), max_iter=50, random_state=0), ['Working_hours', 'EMOLUMENT']),\n",
        "#         (OneHotEncoder(handle_unknown='ignore'), ['insee_code', \"is_student\", \"OCCUPATION_42\", \"ACTIVITY_TYPE\", \"household\", \"sex\", \"employer_category\", \"job_category\", \"Terms_of_emp\", \"Eco_sect\", \"Job_dep\", \"WORK_CONDITION\", \"work_description\", \"N3\", \"N2\", \"N1\", \"town_type\", \"dep\", \"Emp_contract\", \"Club\", \"Categorie\", 'REG']),\n",
        "#         (OrdinalEncoder(), [\"Highest_degree\", \"EMPLOYEE_COUNT\"]),\n",
        "#         remainder='passthrough'\n",
        "#     )\n",
        "\n",
        "#     if for_training:\n",
        "#         # Création de l'instance XGBClassifier avec les paramètres\n",
        "#         xgb_classifier = XGBClassifier(random_state=42, **xgb_params)\n",
        "\n",
        "#         # Pipeline pour l'entraînement\n",
        "#         pipeline = Pipeline([\n",
        "#             ('preprocessor', preprocessing),\n",
        "#             ('classifier', xgb_classifier)\n",
        "#         ])\n",
        "\n",
        "#         return pipeline.fit(data[0], data[1])\n",
        "\n",
        "#     else:\n",
        "#         # Pipeline pour le traitement des données de test\n",
        "#         pipeline = Pipeline([\n",
        "#             ('preprocessor', preprocessing)\n",
        "#         ])\n",
        "\n",
        "#         return pipeline.fit_transform(data)\n",
        "\n",
        "# pipeline = process_data((X_train, y_train), for_training=True)\n",
        "# X_test_transformed = process_data(X_test, for_training=False)\n"
      ],
      "metadata": {
        "id": "kpEkkoSxGhrS"
      },
      "execution_count": null,
      "outputs": []
    }
  ]
}