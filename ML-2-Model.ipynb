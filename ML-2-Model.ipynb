{
 "cells": [
  {
   "cell_type": "markdown",
   "metadata": {},
   "source": [
    "**Getting our test set, transforming our categorical variables to numerical values and evaluating our first model**"
   ]
  },
  {
   "cell_type": "code",
   "execution_count": 1,
   "metadata": {},
   "outputs": [],
   "source": [
    "import pandas as pd\n",
    "import matplotlib as plt"
   ]
  },
  {
   "cell_type": "code",
   "execution_count": 2,
   "metadata": {},
   "outputs": [
    {
     "data": {
      "text/html": [
       "<div>\n",
       "<style scoped>\n",
       "    .dataframe tbody tr th:only-of-type {\n",
       "        vertical-align: middle;\n",
       "    }\n",
       "\n",
       "    .dataframe tbody tr th {\n",
       "        vertical-align: top;\n",
       "    }\n",
       "\n",
       "    .dataframe thead th {\n",
       "        text-align: right;\n",
       "    }\n",
       "</style>\n",
       "<table border=\"1\" class=\"dataframe\">\n",
       "  <thead>\n",
       "    <tr style=\"text-align: right;\">\n",
       "      <th></th>\n",
       "      <th>Id</th>\n",
       "      <th>insee_code</th>\n",
       "      <th>is_student</th>\n",
       "      <th>OCCUPATION_42</th>\n",
       "      <th>ACTIVITY_TYPE</th>\n",
       "      <th>AGE_2019</th>\n",
       "      <th>household</th>\n",
       "      <th>Highest_degree</th>\n",
       "      <th>sex</th>\n",
       "      <th>target</th>\n",
       "    </tr>\n",
       "  </thead>\n",
       "  <tbody>\n",
       "    <tr>\n",
       "      <th>0</th>\n",
       "      <td>1</td>\n",
       "      <td>01001</td>\n",
       "      <td>True</td>\n",
       "      <td>csp_6_8</td>\n",
       "      <td>TYPE1|1</td>\n",
       "      <td>20</td>\n",
       "      <td>TYPMR1-1</td>\n",
       "      <td>edu.1.4</td>\n",
       "      <td>Male</td>\n",
       "      <td>B</td>\n",
       "    </tr>\n",
       "    <tr>\n",
       "      <th>1</th>\n",
       "      <td>2</td>\n",
       "      <td>01004</td>\n",
       "      <td>False</td>\n",
       "      <td>csp_6_5</td>\n",
       "      <td>TYPE1|1</td>\n",
       "      <td>48</td>\n",
       "      <td>TYPMR4-1</td>\n",
       "      <td>edu.1.3</td>\n",
       "      <td>Male</td>\n",
       "      <td>B</td>\n",
       "    </tr>\n",
       "    <tr>\n",
       "      <th>2</th>\n",
       "      <td>3</td>\n",
       "      <td>01004</td>\n",
       "      <td>False</td>\n",
       "      <td>csp_8_1</td>\n",
       "      <td>TYPE1|2</td>\n",
       "      <td>37</td>\n",
       "      <td>TYPMR4-4</td>\n",
       "      <td>edu.1.8</td>\n",
       "      <td>Female</td>\n",
       "      <td>G</td>\n",
       "    </tr>\n",
       "    <tr>\n",
       "      <th>3</th>\n",
       "      <td>4</td>\n",
       "      <td>01004</td>\n",
       "      <td>False</td>\n",
       "      <td>csp_4_7</td>\n",
       "      <td>TYPE1|2</td>\n",
       "      <td>65</td>\n",
       "      <td>TYPMR3-1</td>\n",
       "      <td>edu.1.6</td>\n",
       "      <td>Male</td>\n",
       "      <td>B</td>\n",
       "    </tr>\n",
       "    <tr>\n",
       "      <th>4</th>\n",
       "      <td>5</td>\n",
       "      <td>01004</td>\n",
       "      <td>True</td>\n",
       "      <td>csp_8_4</td>\n",
       "      <td>TYPE2|2</td>\n",
       "      <td>22</td>\n",
       "      <td>TYPMR1-2</td>\n",
       "      <td>edu.1.4</td>\n",
       "      <td>Female</td>\n",
       "      <td>B</td>\n",
       "    </tr>\n",
       "    <tr>\n",
       "      <th>...</th>\n",
       "      <td>...</td>\n",
       "      <td>...</td>\n",
       "      <td>...</td>\n",
       "      <td>...</td>\n",
       "      <td>...</td>\n",
       "      <td>...</td>\n",
       "      <td>...</td>\n",
       "      <td>...</td>\n",
       "      <td>...</td>\n",
       "      <td>...</td>\n",
       "    </tr>\n",
       "    <tr>\n",
       "      <th>49988</th>\n",
       "      <td>99979</td>\n",
       "      <td>95680</td>\n",
       "      <td>False</td>\n",
       "      <td>csp_4_6</td>\n",
       "      <td>TYPE1|1</td>\n",
       "      <td>57</td>\n",
       "      <td>TYPMR1-2</td>\n",
       "      <td>edu.1.3</td>\n",
       "      <td>Female</td>\n",
       "      <td>B</td>\n",
       "    </tr>\n",
       "    <tr>\n",
       "      <th>49989</th>\n",
       "      <td>99981</td>\n",
       "      <td>95680</td>\n",
       "      <td>False</td>\n",
       "      <td>csp_8_5</td>\n",
       "      <td>TYPE2|5</td>\n",
       "      <td>25</td>\n",
       "      <td>TYPMR4-1</td>\n",
       "      <td>edu.1.4</td>\n",
       "      <td>Male</td>\n",
       "      <td>G</td>\n",
       "    </tr>\n",
       "    <tr>\n",
       "      <th>49990</th>\n",
       "      <td>99983</td>\n",
       "      <td>95680</td>\n",
       "      <td>True</td>\n",
       "      <td>csp_8_4</td>\n",
       "      <td>TYPE2|2</td>\n",
       "      <td>19</td>\n",
       "      <td>TYPMR4-2</td>\n",
       "      <td>edu.1.4</td>\n",
       "      <td>Female</td>\n",
       "      <td>B</td>\n",
       "    </tr>\n",
       "    <tr>\n",
       "      <th>49991</th>\n",
       "      <td>99984</td>\n",
       "      <td>95680</td>\n",
       "      <td>False</td>\n",
       "      <td>csp_4_7</td>\n",
       "      <td>TYPE1|1</td>\n",
       "      <td>48</td>\n",
       "      <td>TYPMR4-1</td>\n",
       "      <td>edu.1.7</td>\n",
       "      <td>Male</td>\n",
       "      <td>G</td>\n",
       "    </tr>\n",
       "    <tr>\n",
       "      <th>49992</th>\n",
       "      <td>99985</td>\n",
       "      <td>95680</td>\n",
       "      <td>False</td>\n",
       "      <td>csp_5_2</td>\n",
       "      <td>TYPE1|1</td>\n",
       "      <td>36</td>\n",
       "      <td>TYPMR3-2</td>\n",
       "      <td>edu.1.5</td>\n",
       "      <td>Female</td>\n",
       "      <td>B</td>\n",
       "    </tr>\n",
       "  </tbody>\n",
       "</table>\n",
       "<p>49993 rows × 10 columns</p>\n",
       "</div>"
      ],
      "text/plain": [
       "          Id insee_code  is_student OCCUPATION_42 ACTIVITY_TYPE  AGE_2019  \\\n",
       "0          1      01001        True       csp_6_8       TYPE1|1        20   \n",
       "1          2      01004       False       csp_6_5       TYPE1|1        48   \n",
       "2          3      01004       False       csp_8_1       TYPE1|2        37   \n",
       "3          4      01004       False       csp_4_7       TYPE1|2        65   \n",
       "4          5      01004        True       csp_8_4       TYPE2|2        22   \n",
       "...      ...        ...         ...           ...           ...       ...   \n",
       "49988  99979      95680       False       csp_4_6       TYPE1|1        57   \n",
       "49989  99981      95680       False       csp_8_5       TYPE2|5        25   \n",
       "49990  99983      95680        True       csp_8_4       TYPE2|2        19   \n",
       "49991  99984      95680       False       csp_4_7       TYPE1|1        48   \n",
       "49992  99985      95680       False       csp_5_2       TYPE1|1        36   \n",
       "\n",
       "      household Highest_degree     sex target  \n",
       "0      TYPMR1-1        edu.1.4    Male      B  \n",
       "1      TYPMR4-1        edu.1.3    Male      B  \n",
       "2      TYPMR4-4        edu.1.8  Female      G  \n",
       "3      TYPMR3-1        edu.1.6    Male      B  \n",
       "4      TYPMR1-2        edu.1.4  Female      B  \n",
       "...         ...            ...     ...    ...  \n",
       "49988  TYPMR1-2        edu.1.3  Female      B  \n",
       "49989  TYPMR4-1        edu.1.4    Male      G  \n",
       "49990  TYPMR4-2        edu.1.4  Female      B  \n",
       "49991  TYPMR4-1        edu.1.7    Male      G  \n",
       "49992  TYPMR3-2        edu.1.5  Female      B  \n",
       "\n",
       "[49993 rows x 10 columns]"
      ]
     },
     "execution_count": 2,
     "metadata": {},
     "output_type": "execute_result"
    }
   ],
   "source": [
    "df = pd.read_csv(\"project-3-files/learn_dataset.csv\")\n",
    "df"
   ]
  },
  {
   "cell_type": "code",
   "execution_count": 3,
   "metadata": {},
   "outputs": [],
   "source": [
    "from sklearn.model_selection import train_test_split\n",
    "import sklearn\n",
    "sklearn.set_config(display=\"diagram\")\n",
    "\n",
    "train_set, test_set = train_test_split(df, test_size=0.2, random_state=42)"
   ]
  },
  {
   "cell_type": "markdown",
   "metadata": {},
   "source": [
    "**Our mission now is to understand whether our test set is correctly stratified**"
   ]
  },
  {
   "cell_type": "markdown",
   "metadata": {},
   "source": [
    "**Unfortunately, we don't know for now which feature is the most explanatory for our target (label) variable. Therefore, we'll have to leave this on the side and come back to it later. I'm not even sure this is something we can do, since categories are spread out...**"
   ]
  },
  {
   "cell_type": "code",
   "execution_count": 4,
   "metadata": {},
   "outputs": [],
   "source": [
    "X = train_set.drop([\"target\", \"Id\"], axis=\"columns\")\n",
    "y = train_set['target'].copy()"
   ]
  },
  {
   "cell_type": "code",
   "execution_count": 5,
   "metadata": {},
   "outputs": [],
   "source": [
    "X_train, X_test, y_train, y_test = train_test_split(X, y, test_size=0.3, random_state=0, stratify=y)"
   ]
  },
  {
   "cell_type": "markdown",
   "metadata": {},
   "source": [
    "Most ML algorithms prefer to work with numbers, so let's convert these categories from text to numbers."
   ]
  },
  {
   "cell_type": "code",
   "execution_count": 6,
   "metadata": {},
   "outputs": [],
   "source": [
    "from sklearn.compose import make_column_transformer\n",
    "from sklearn.preprocessing import OrdinalEncoder\n",
    "import category_encoders as ce\n",
    "from sklearn.preprocessing import OneHotEncoder\n",
    "from sklearn.linear_model import LogisticRegression\n",
    "from sklearn.pipeline import make_pipeline\n",
    "from sklearn.model_selection import cross_val_score"
   ]
  },
  {
   "cell_type": "markdown",
   "metadata": {},
   "source": [
    "Okay so here I'll have to check the type of data we have, if it is ordinal, nominal, etc. To see whether this is the case, I have to check all the data. I'll do this in another jupyter notebook."
   ]
  },
  {
   "cell_type": "code",
   "execution_count": 7,
   "metadata": {},
   "outputs": [],
   "source": [
    "preprocessing = make_column_transformer (\n",
    "    (OneHotEncoder(), [\"is_student\", \"OCCUPATION_42\", \"ACTIVITY_TYPE\", \"household\", \"sex\"]),\n",
    "    (OrdinalEncoder(), [\"Highest_degree\"]), #maybe I should check if it is well encoded \n",
    "    (ce.BinaryEncoder(), [\"insee_code\"]),\n",
    "    remainder='passthrough')\n",
    "logreg = LogisticRegression(solver='lbfgs', max_iter=2000)"
   ]
  },
  {
   "cell_type": "code",
   "execution_count": 8,
   "metadata": {},
   "outputs": [
    {
     "data": {
      "text/html": [
       "<style>#sk-container-id-1 {color: black;}#sk-container-id-1 pre{padding: 0;}#sk-container-id-1 div.sk-toggleable {background-color: white;}#sk-container-id-1 label.sk-toggleable__label {cursor: pointer;display: block;width: 100%;margin-bottom: 0;padding: 0.3em;box-sizing: border-box;text-align: center;}#sk-container-id-1 label.sk-toggleable__label-arrow:before {content: \"▸\";float: left;margin-right: 0.25em;color: #696969;}#sk-container-id-1 label.sk-toggleable__label-arrow:hover:before {color: black;}#sk-container-id-1 div.sk-estimator:hover label.sk-toggleable__label-arrow:before {color: black;}#sk-container-id-1 div.sk-toggleable__content {max-height: 0;max-width: 0;overflow: hidden;text-align: left;background-color: #f0f8ff;}#sk-container-id-1 div.sk-toggleable__content pre {margin: 0.2em;color: black;border-radius: 0.25em;background-color: #f0f8ff;}#sk-container-id-1 input.sk-toggleable__control:checked~div.sk-toggleable__content {max-height: 200px;max-width: 100%;overflow: auto;}#sk-container-id-1 input.sk-toggleable__control:checked~label.sk-toggleable__label-arrow:before {content: \"▾\";}#sk-container-id-1 div.sk-estimator input.sk-toggleable__control:checked~label.sk-toggleable__label {background-color: #d4ebff;}#sk-container-id-1 div.sk-label input.sk-toggleable__control:checked~label.sk-toggleable__label {background-color: #d4ebff;}#sk-container-id-1 input.sk-hidden--visually {border: 0;clip: rect(1px 1px 1px 1px);clip: rect(1px, 1px, 1px, 1px);height: 1px;margin: -1px;overflow: hidden;padding: 0;position: absolute;width: 1px;}#sk-container-id-1 div.sk-estimator {font-family: monospace;background-color: #f0f8ff;border: 1px dotted black;border-radius: 0.25em;box-sizing: border-box;margin-bottom: 0.5em;}#sk-container-id-1 div.sk-estimator:hover {background-color: #d4ebff;}#sk-container-id-1 div.sk-parallel-item::after {content: \"\";width: 100%;border-bottom: 1px solid gray;flex-grow: 1;}#sk-container-id-1 div.sk-label:hover label.sk-toggleable__label {background-color: #d4ebff;}#sk-container-id-1 div.sk-serial::before {content: \"\";position: absolute;border-left: 1px solid gray;box-sizing: border-box;top: 0;bottom: 0;left: 50%;z-index: 0;}#sk-container-id-1 div.sk-serial {display: flex;flex-direction: column;align-items: center;background-color: white;padding-right: 0.2em;padding-left: 0.2em;position: relative;}#sk-container-id-1 div.sk-item {position: relative;z-index: 1;}#sk-container-id-1 div.sk-parallel {display: flex;align-items: stretch;justify-content: center;background-color: white;position: relative;}#sk-container-id-1 div.sk-item::before, #sk-container-id-1 div.sk-parallel-item::before {content: \"\";position: absolute;border-left: 1px solid gray;box-sizing: border-box;top: 0;bottom: 0;left: 50%;z-index: -1;}#sk-container-id-1 div.sk-parallel-item {display: flex;flex-direction: column;z-index: 1;position: relative;background-color: white;}#sk-container-id-1 div.sk-parallel-item:first-child::after {align-self: flex-end;width: 50%;}#sk-container-id-1 div.sk-parallel-item:last-child::after {align-self: flex-start;width: 50%;}#sk-container-id-1 div.sk-parallel-item:only-child::after {width: 0;}#sk-container-id-1 div.sk-dashed-wrapped {border: 1px dashed gray;margin: 0 0.4em 0.5em 0.4em;box-sizing: border-box;padding-bottom: 0.4em;background-color: white;}#sk-container-id-1 div.sk-label label {font-family: monospace;font-weight: bold;display: inline-block;line-height: 1.2em;}#sk-container-id-1 div.sk-label-container {text-align: center;}#sk-container-id-1 div.sk-container {/* jupyter's `normalize.less` sets `[hidden] { display: none; }` but bootstrap.min.css set `[hidden] { display: none !important; }` so we also need the `!important` here to be able to override the default hidden behavior on the sphinx rendered scikit-learn.org. See: https://github.com/scikit-learn/scikit-learn/issues/21755 */display: inline-block !important;position: relative;}#sk-container-id-1 div.sk-text-repr-fallback {display: none;}</style><div id=\"sk-container-id-1\" class=\"sk-top-container\"><div class=\"sk-text-repr-fallback\"><pre>Pipeline(steps=[(&#x27;columntransformer&#x27;,\n",
       "                 ColumnTransformer(remainder=&#x27;passthrough&#x27;,\n",
       "                                   transformers=[(&#x27;onehotencoder&#x27;,\n",
       "                                                  OneHotEncoder(),\n",
       "                                                  [&#x27;is_student&#x27;,\n",
       "                                                   &#x27;OCCUPATION_42&#x27;,\n",
       "                                                   &#x27;ACTIVITY_TYPE&#x27;, &#x27;household&#x27;,\n",
       "                                                   &#x27;sex&#x27;]),\n",
       "                                                 (&#x27;ordinalencoder&#x27;,\n",
       "                                                  OrdinalEncoder(),\n",
       "                                                  [&#x27;Highest_degree&#x27;]),\n",
       "                                                 (&#x27;binaryencoder&#x27;,\n",
       "                                                  BinaryEncoder(),\n",
       "                                                  [&#x27;insee_code&#x27;])])),\n",
       "                (&#x27;logisticregression&#x27;, LogisticRegression(max_iter=2000))])</pre><b>In a Jupyter environment, please rerun this cell to show the HTML representation or trust the notebook. <br />On GitHub, the HTML representation is unable to render, please try loading this page with nbviewer.org.</b></div><div class=\"sk-container\" hidden><div class=\"sk-item sk-dashed-wrapped\"><div class=\"sk-label-container\"><div class=\"sk-label sk-toggleable\"><input class=\"sk-toggleable__control sk-hidden--visually\" id=\"sk-estimator-id-1\" type=\"checkbox\" ><label for=\"sk-estimator-id-1\" class=\"sk-toggleable__label sk-toggleable__label-arrow\">Pipeline</label><div class=\"sk-toggleable__content\"><pre>Pipeline(steps=[(&#x27;columntransformer&#x27;,\n",
       "                 ColumnTransformer(remainder=&#x27;passthrough&#x27;,\n",
       "                                   transformers=[(&#x27;onehotencoder&#x27;,\n",
       "                                                  OneHotEncoder(),\n",
       "                                                  [&#x27;is_student&#x27;,\n",
       "                                                   &#x27;OCCUPATION_42&#x27;,\n",
       "                                                   &#x27;ACTIVITY_TYPE&#x27;, &#x27;household&#x27;,\n",
       "                                                   &#x27;sex&#x27;]),\n",
       "                                                 (&#x27;ordinalencoder&#x27;,\n",
       "                                                  OrdinalEncoder(),\n",
       "                                                  [&#x27;Highest_degree&#x27;]),\n",
       "                                                 (&#x27;binaryencoder&#x27;,\n",
       "                                                  BinaryEncoder(),\n",
       "                                                  [&#x27;insee_code&#x27;])])),\n",
       "                (&#x27;logisticregression&#x27;, LogisticRegression(max_iter=2000))])</pre></div></div></div><div class=\"sk-serial\"><div class=\"sk-item sk-dashed-wrapped\"><div class=\"sk-label-container\"><div class=\"sk-label sk-toggleable\"><input class=\"sk-toggleable__control sk-hidden--visually\" id=\"sk-estimator-id-2\" type=\"checkbox\" ><label for=\"sk-estimator-id-2\" class=\"sk-toggleable__label sk-toggleable__label-arrow\">columntransformer: ColumnTransformer</label><div class=\"sk-toggleable__content\"><pre>ColumnTransformer(remainder=&#x27;passthrough&#x27;,\n",
       "                  transformers=[(&#x27;onehotencoder&#x27;, OneHotEncoder(),\n",
       "                                 [&#x27;is_student&#x27;, &#x27;OCCUPATION_42&#x27;,\n",
       "                                  &#x27;ACTIVITY_TYPE&#x27;, &#x27;household&#x27;, &#x27;sex&#x27;]),\n",
       "                                (&#x27;ordinalencoder&#x27;, OrdinalEncoder(),\n",
       "                                 [&#x27;Highest_degree&#x27;]),\n",
       "                                (&#x27;binaryencoder&#x27;, BinaryEncoder(),\n",
       "                                 [&#x27;insee_code&#x27;])])</pre></div></div></div><div class=\"sk-parallel\"><div class=\"sk-parallel-item\"><div class=\"sk-item\"><div class=\"sk-label-container\"><div class=\"sk-label sk-toggleable\"><input class=\"sk-toggleable__control sk-hidden--visually\" id=\"sk-estimator-id-3\" type=\"checkbox\" ><label for=\"sk-estimator-id-3\" class=\"sk-toggleable__label sk-toggleable__label-arrow\">onehotencoder</label><div class=\"sk-toggleable__content\"><pre>[&#x27;is_student&#x27;, &#x27;OCCUPATION_42&#x27;, &#x27;ACTIVITY_TYPE&#x27;, &#x27;household&#x27;, &#x27;sex&#x27;]</pre></div></div></div><div class=\"sk-serial\"><div class=\"sk-item\"><div class=\"sk-estimator sk-toggleable\"><input class=\"sk-toggleable__control sk-hidden--visually\" id=\"sk-estimator-id-4\" type=\"checkbox\" ><label for=\"sk-estimator-id-4\" class=\"sk-toggleable__label sk-toggleable__label-arrow\">OneHotEncoder</label><div class=\"sk-toggleable__content\"><pre>OneHotEncoder()</pre></div></div></div></div></div></div><div class=\"sk-parallel-item\"><div class=\"sk-item\"><div class=\"sk-label-container\"><div class=\"sk-label sk-toggleable\"><input class=\"sk-toggleable__control sk-hidden--visually\" id=\"sk-estimator-id-5\" type=\"checkbox\" ><label for=\"sk-estimator-id-5\" class=\"sk-toggleable__label sk-toggleable__label-arrow\">ordinalencoder</label><div class=\"sk-toggleable__content\"><pre>[&#x27;Highest_degree&#x27;]</pre></div></div></div><div class=\"sk-serial\"><div class=\"sk-item\"><div class=\"sk-estimator sk-toggleable\"><input class=\"sk-toggleable__control sk-hidden--visually\" id=\"sk-estimator-id-6\" type=\"checkbox\" ><label for=\"sk-estimator-id-6\" class=\"sk-toggleable__label sk-toggleable__label-arrow\">OrdinalEncoder</label><div class=\"sk-toggleable__content\"><pre>OrdinalEncoder()</pre></div></div></div></div></div></div><div class=\"sk-parallel-item\"><div class=\"sk-item\"><div class=\"sk-label-container\"><div class=\"sk-label sk-toggleable\"><input class=\"sk-toggleable__control sk-hidden--visually\" id=\"sk-estimator-id-7\" type=\"checkbox\" ><label for=\"sk-estimator-id-7\" class=\"sk-toggleable__label sk-toggleable__label-arrow\">binaryencoder</label><div class=\"sk-toggleable__content\"><pre>[&#x27;insee_code&#x27;]</pre></div></div></div><div class=\"sk-serial\"><div class=\"sk-item\"><div class=\"sk-estimator sk-toggleable\"><input class=\"sk-toggleable__control sk-hidden--visually\" id=\"sk-estimator-id-8\" type=\"checkbox\" ><label for=\"sk-estimator-id-8\" class=\"sk-toggleable__label sk-toggleable__label-arrow\">BinaryEncoder</label><div class=\"sk-toggleable__content\"><pre>BinaryEncoder()</pre></div></div></div></div></div></div><div class=\"sk-parallel-item\"><div class=\"sk-item\"><div class=\"sk-label-container\"><div class=\"sk-label sk-toggleable\"><input class=\"sk-toggleable__control sk-hidden--visually\" id=\"sk-estimator-id-9\" type=\"checkbox\" ><label for=\"sk-estimator-id-9\" class=\"sk-toggleable__label sk-toggleable__label-arrow\">remainder</label><div class=\"sk-toggleable__content\"><pre></pre></div></div></div><div class=\"sk-serial\"><div class=\"sk-item\"><div class=\"sk-estimator sk-toggleable\"><input class=\"sk-toggleable__control sk-hidden--visually\" id=\"sk-estimator-id-10\" type=\"checkbox\" ><label for=\"sk-estimator-id-10\" class=\"sk-toggleable__label sk-toggleable__label-arrow\">passthrough</label><div class=\"sk-toggleable__content\"><pre>passthrough</pre></div></div></div></div></div></div></div></div><div class=\"sk-item\"><div class=\"sk-estimator sk-toggleable\"><input class=\"sk-toggleable__control sk-hidden--visually\" id=\"sk-estimator-id-11\" type=\"checkbox\" ><label for=\"sk-estimator-id-11\" class=\"sk-toggleable__label sk-toggleable__label-arrow\">LogisticRegression</label><div class=\"sk-toggleable__content\"><pre>LogisticRegression(max_iter=2000)</pre></div></div></div></div></div></div></div>"
      ],
      "text/plain": [
       "Pipeline(steps=[('columntransformer',\n",
       "                 ColumnTransformer(remainder='passthrough',\n",
       "                                   transformers=[('onehotencoder',\n",
       "                                                  OneHotEncoder(),\n",
       "                                                  ['is_student',\n",
       "                                                   'OCCUPATION_42',\n",
       "                                                   'ACTIVITY_TYPE', 'household',\n",
       "                                                   'sex']),\n",
       "                                                 ('ordinalencoder',\n",
       "                                                  OrdinalEncoder(),\n",
       "                                                  ['Highest_degree']),\n",
       "                                                 ('binaryencoder',\n",
       "                                                  BinaryEncoder(),\n",
       "                                                  ['insee_code'])])),\n",
       "                ('logisticregression', LogisticRegression(max_iter=2000))])"
      ]
     },
     "execution_count": 8,
     "metadata": {},
     "output_type": "execute_result"
    }
   ],
   "source": [
    "pipe = make_pipeline(preprocessing, logreg)\n",
    "pipe"
   ]
  },
  {
   "cell_type": "code",
   "execution_count": 9,
   "metadata": {},
   "outputs": [
    {
     "data": {
      "text/html": [
       "<style>#sk-container-id-2 {color: black;}#sk-container-id-2 pre{padding: 0;}#sk-container-id-2 div.sk-toggleable {background-color: white;}#sk-container-id-2 label.sk-toggleable__label {cursor: pointer;display: block;width: 100%;margin-bottom: 0;padding: 0.3em;box-sizing: border-box;text-align: center;}#sk-container-id-2 label.sk-toggleable__label-arrow:before {content: \"▸\";float: left;margin-right: 0.25em;color: #696969;}#sk-container-id-2 label.sk-toggleable__label-arrow:hover:before {color: black;}#sk-container-id-2 div.sk-estimator:hover label.sk-toggleable__label-arrow:before {color: black;}#sk-container-id-2 div.sk-toggleable__content {max-height: 0;max-width: 0;overflow: hidden;text-align: left;background-color: #f0f8ff;}#sk-container-id-2 div.sk-toggleable__content pre {margin: 0.2em;color: black;border-radius: 0.25em;background-color: #f0f8ff;}#sk-container-id-2 input.sk-toggleable__control:checked~div.sk-toggleable__content {max-height: 200px;max-width: 100%;overflow: auto;}#sk-container-id-2 input.sk-toggleable__control:checked~label.sk-toggleable__label-arrow:before {content: \"▾\";}#sk-container-id-2 div.sk-estimator input.sk-toggleable__control:checked~label.sk-toggleable__label {background-color: #d4ebff;}#sk-container-id-2 div.sk-label input.sk-toggleable__control:checked~label.sk-toggleable__label {background-color: #d4ebff;}#sk-container-id-2 input.sk-hidden--visually {border: 0;clip: rect(1px 1px 1px 1px);clip: rect(1px, 1px, 1px, 1px);height: 1px;margin: -1px;overflow: hidden;padding: 0;position: absolute;width: 1px;}#sk-container-id-2 div.sk-estimator {font-family: monospace;background-color: #f0f8ff;border: 1px dotted black;border-radius: 0.25em;box-sizing: border-box;margin-bottom: 0.5em;}#sk-container-id-2 div.sk-estimator:hover {background-color: #d4ebff;}#sk-container-id-2 div.sk-parallel-item::after {content: \"\";width: 100%;border-bottom: 1px solid gray;flex-grow: 1;}#sk-container-id-2 div.sk-label:hover label.sk-toggleable__label {background-color: #d4ebff;}#sk-container-id-2 div.sk-serial::before {content: \"\";position: absolute;border-left: 1px solid gray;box-sizing: border-box;top: 0;bottom: 0;left: 50%;z-index: 0;}#sk-container-id-2 div.sk-serial {display: flex;flex-direction: column;align-items: center;background-color: white;padding-right: 0.2em;padding-left: 0.2em;position: relative;}#sk-container-id-2 div.sk-item {position: relative;z-index: 1;}#sk-container-id-2 div.sk-parallel {display: flex;align-items: stretch;justify-content: center;background-color: white;position: relative;}#sk-container-id-2 div.sk-item::before, #sk-container-id-2 div.sk-parallel-item::before {content: \"\";position: absolute;border-left: 1px solid gray;box-sizing: border-box;top: 0;bottom: 0;left: 50%;z-index: -1;}#sk-container-id-2 div.sk-parallel-item {display: flex;flex-direction: column;z-index: 1;position: relative;background-color: white;}#sk-container-id-2 div.sk-parallel-item:first-child::after {align-self: flex-end;width: 50%;}#sk-container-id-2 div.sk-parallel-item:last-child::after {align-self: flex-start;width: 50%;}#sk-container-id-2 div.sk-parallel-item:only-child::after {width: 0;}#sk-container-id-2 div.sk-dashed-wrapped {border: 1px dashed gray;margin: 0 0.4em 0.5em 0.4em;box-sizing: border-box;padding-bottom: 0.4em;background-color: white;}#sk-container-id-2 div.sk-label label {font-family: monospace;font-weight: bold;display: inline-block;line-height: 1.2em;}#sk-container-id-2 div.sk-label-container {text-align: center;}#sk-container-id-2 div.sk-container {/* jupyter's `normalize.less` sets `[hidden] { display: none; }` but bootstrap.min.css set `[hidden] { display: none !important; }` so we also need the `!important` here to be able to override the default hidden behavior on the sphinx rendered scikit-learn.org. See: https://github.com/scikit-learn/scikit-learn/issues/21755 */display: inline-block !important;position: relative;}#sk-container-id-2 div.sk-text-repr-fallback {display: none;}</style><div id=\"sk-container-id-2\" class=\"sk-top-container\"><div class=\"sk-text-repr-fallback\"><pre>Pipeline(steps=[(&#x27;columntransformer&#x27;,\n",
       "                 ColumnTransformer(remainder=&#x27;passthrough&#x27;,\n",
       "                                   transformers=[(&#x27;onehotencoder&#x27;,\n",
       "                                                  OneHotEncoder(),\n",
       "                                                  [&#x27;is_student&#x27;,\n",
       "                                                   &#x27;OCCUPATION_42&#x27;,\n",
       "                                                   &#x27;ACTIVITY_TYPE&#x27;, &#x27;household&#x27;,\n",
       "                                                   &#x27;sex&#x27;]),\n",
       "                                                 (&#x27;ordinalencoder&#x27;,\n",
       "                                                  OrdinalEncoder(),\n",
       "                                                  [&#x27;Highest_degree&#x27;]),\n",
       "                                                 (&#x27;binaryencoder&#x27;,\n",
       "                                                  BinaryEncoder(),\n",
       "                                                  [&#x27;insee_code&#x27;])])),\n",
       "                (&#x27;logisticregression&#x27;, LogisticRegression(max_iter=2000))])</pre><b>In a Jupyter environment, please rerun this cell to show the HTML representation or trust the notebook. <br />On GitHub, the HTML representation is unable to render, please try loading this page with nbviewer.org.</b></div><div class=\"sk-container\" hidden><div class=\"sk-item sk-dashed-wrapped\"><div class=\"sk-label-container\"><div class=\"sk-label sk-toggleable\"><input class=\"sk-toggleable__control sk-hidden--visually\" id=\"sk-estimator-id-12\" type=\"checkbox\" ><label for=\"sk-estimator-id-12\" class=\"sk-toggleable__label sk-toggleable__label-arrow\">Pipeline</label><div class=\"sk-toggleable__content\"><pre>Pipeline(steps=[(&#x27;columntransformer&#x27;,\n",
       "                 ColumnTransformer(remainder=&#x27;passthrough&#x27;,\n",
       "                                   transformers=[(&#x27;onehotencoder&#x27;,\n",
       "                                                  OneHotEncoder(),\n",
       "                                                  [&#x27;is_student&#x27;,\n",
       "                                                   &#x27;OCCUPATION_42&#x27;,\n",
       "                                                   &#x27;ACTIVITY_TYPE&#x27;, &#x27;household&#x27;,\n",
       "                                                   &#x27;sex&#x27;]),\n",
       "                                                 (&#x27;ordinalencoder&#x27;,\n",
       "                                                  OrdinalEncoder(),\n",
       "                                                  [&#x27;Highest_degree&#x27;]),\n",
       "                                                 (&#x27;binaryencoder&#x27;,\n",
       "                                                  BinaryEncoder(),\n",
       "                                                  [&#x27;insee_code&#x27;])])),\n",
       "                (&#x27;logisticregression&#x27;, LogisticRegression(max_iter=2000))])</pre></div></div></div><div class=\"sk-serial\"><div class=\"sk-item sk-dashed-wrapped\"><div class=\"sk-label-container\"><div class=\"sk-label sk-toggleable\"><input class=\"sk-toggleable__control sk-hidden--visually\" id=\"sk-estimator-id-13\" type=\"checkbox\" ><label for=\"sk-estimator-id-13\" class=\"sk-toggleable__label sk-toggleable__label-arrow\">columntransformer: ColumnTransformer</label><div class=\"sk-toggleable__content\"><pre>ColumnTransformer(remainder=&#x27;passthrough&#x27;,\n",
       "                  transformers=[(&#x27;onehotencoder&#x27;, OneHotEncoder(),\n",
       "                                 [&#x27;is_student&#x27;, &#x27;OCCUPATION_42&#x27;,\n",
       "                                  &#x27;ACTIVITY_TYPE&#x27;, &#x27;household&#x27;, &#x27;sex&#x27;]),\n",
       "                                (&#x27;ordinalencoder&#x27;, OrdinalEncoder(),\n",
       "                                 [&#x27;Highest_degree&#x27;]),\n",
       "                                (&#x27;binaryencoder&#x27;, BinaryEncoder(),\n",
       "                                 [&#x27;insee_code&#x27;])])</pre></div></div></div><div class=\"sk-parallel\"><div class=\"sk-parallel-item\"><div class=\"sk-item\"><div class=\"sk-label-container\"><div class=\"sk-label sk-toggleable\"><input class=\"sk-toggleable__control sk-hidden--visually\" id=\"sk-estimator-id-14\" type=\"checkbox\" ><label for=\"sk-estimator-id-14\" class=\"sk-toggleable__label sk-toggleable__label-arrow\">onehotencoder</label><div class=\"sk-toggleable__content\"><pre>[&#x27;is_student&#x27;, &#x27;OCCUPATION_42&#x27;, &#x27;ACTIVITY_TYPE&#x27;, &#x27;household&#x27;, &#x27;sex&#x27;]</pre></div></div></div><div class=\"sk-serial\"><div class=\"sk-item\"><div class=\"sk-estimator sk-toggleable\"><input class=\"sk-toggleable__control sk-hidden--visually\" id=\"sk-estimator-id-15\" type=\"checkbox\" ><label for=\"sk-estimator-id-15\" class=\"sk-toggleable__label sk-toggleable__label-arrow\">OneHotEncoder</label><div class=\"sk-toggleable__content\"><pre>OneHotEncoder()</pre></div></div></div></div></div></div><div class=\"sk-parallel-item\"><div class=\"sk-item\"><div class=\"sk-label-container\"><div class=\"sk-label sk-toggleable\"><input class=\"sk-toggleable__control sk-hidden--visually\" id=\"sk-estimator-id-16\" type=\"checkbox\" ><label for=\"sk-estimator-id-16\" class=\"sk-toggleable__label sk-toggleable__label-arrow\">ordinalencoder</label><div class=\"sk-toggleable__content\"><pre>[&#x27;Highest_degree&#x27;]</pre></div></div></div><div class=\"sk-serial\"><div class=\"sk-item\"><div class=\"sk-estimator sk-toggleable\"><input class=\"sk-toggleable__control sk-hidden--visually\" id=\"sk-estimator-id-17\" type=\"checkbox\" ><label for=\"sk-estimator-id-17\" class=\"sk-toggleable__label sk-toggleable__label-arrow\">OrdinalEncoder</label><div class=\"sk-toggleable__content\"><pre>OrdinalEncoder()</pre></div></div></div></div></div></div><div class=\"sk-parallel-item\"><div class=\"sk-item\"><div class=\"sk-label-container\"><div class=\"sk-label sk-toggleable\"><input class=\"sk-toggleable__control sk-hidden--visually\" id=\"sk-estimator-id-18\" type=\"checkbox\" ><label for=\"sk-estimator-id-18\" class=\"sk-toggleable__label sk-toggleable__label-arrow\">binaryencoder</label><div class=\"sk-toggleable__content\"><pre>[&#x27;insee_code&#x27;]</pre></div></div></div><div class=\"sk-serial\"><div class=\"sk-item\"><div class=\"sk-estimator sk-toggleable\"><input class=\"sk-toggleable__control sk-hidden--visually\" id=\"sk-estimator-id-19\" type=\"checkbox\" ><label for=\"sk-estimator-id-19\" class=\"sk-toggleable__label sk-toggleable__label-arrow\">BinaryEncoder</label><div class=\"sk-toggleable__content\"><pre>BinaryEncoder()</pre></div></div></div></div></div></div><div class=\"sk-parallel-item\"><div class=\"sk-item\"><div class=\"sk-label-container\"><div class=\"sk-label sk-toggleable\"><input class=\"sk-toggleable__control sk-hidden--visually\" id=\"sk-estimator-id-20\" type=\"checkbox\" ><label for=\"sk-estimator-id-20\" class=\"sk-toggleable__label sk-toggleable__label-arrow\">remainder</label><div class=\"sk-toggleable__content\"><pre>[&#x27;AGE_2019&#x27;]</pre></div></div></div><div class=\"sk-serial\"><div class=\"sk-item\"><div class=\"sk-estimator sk-toggleable\"><input class=\"sk-toggleable__control sk-hidden--visually\" id=\"sk-estimator-id-21\" type=\"checkbox\" ><label for=\"sk-estimator-id-21\" class=\"sk-toggleable__label sk-toggleable__label-arrow\">passthrough</label><div class=\"sk-toggleable__content\"><pre>passthrough</pre></div></div></div></div></div></div></div></div><div class=\"sk-item\"><div class=\"sk-estimator sk-toggleable\"><input class=\"sk-toggleable__control sk-hidden--visually\" id=\"sk-estimator-id-22\" type=\"checkbox\" ><label for=\"sk-estimator-id-22\" class=\"sk-toggleable__label sk-toggleable__label-arrow\">LogisticRegression</label><div class=\"sk-toggleable__content\"><pre>LogisticRegression(max_iter=2000)</pre></div></div></div></div></div></div></div>"
      ],
      "text/plain": [
       "Pipeline(steps=[('columntransformer',\n",
       "                 ColumnTransformer(remainder='passthrough',\n",
       "                                   transformers=[('onehotencoder',\n",
       "                                                  OneHotEncoder(),\n",
       "                                                  ['is_student',\n",
       "                                                   'OCCUPATION_42',\n",
       "                                                   'ACTIVITY_TYPE', 'household',\n",
       "                                                   'sex']),\n",
       "                                                 ('ordinalencoder',\n",
       "                                                  OrdinalEncoder(),\n",
       "                                                  ['Highest_degree']),\n",
       "                                                 ('binaryencoder',\n",
       "                                                  BinaryEncoder(),\n",
       "                                                  ['insee_code'])])),\n",
       "                ('logisticregression', LogisticRegression(max_iter=2000))])"
      ]
     },
     "execution_count": 9,
     "metadata": {},
     "output_type": "execute_result"
    }
   ],
   "source": [
    "pipe.fit(X_train, y_train)"
   ]
  },
  {
   "cell_type": "code",
   "execution_count": 10,
   "metadata": {},
   "outputs": [
    {
     "data": {
      "text/plain": [
       "0.7535988569387391"
      ]
     },
     "execution_count": 10,
     "metadata": {},
     "output_type": "execute_result"
    }
   ],
   "source": [
    "cross_val_score(pipe, X_train, y_train, cv=5, scoring=\"accuracy\").mean()"
   ]
  },
  {
   "cell_type": "code",
   "execution_count": 11,
   "metadata": {},
   "outputs": [
    {
     "data": {
      "text/plain": [
       "B    0.615017\n",
       "G    0.384983\n",
       "Name: target, dtype: float64"
      ]
     },
     "execution_count": 11,
     "metadata": {},
     "output_type": "execute_result"
    }
   ],
   "source": [
    "y.value_counts(normalize=True) #null accuracy is what we get if we simply predict the most frequent class (here B)."
   ]
  },
  {
   "cell_type": "code",
   "execution_count": 12,
   "metadata": {},
   "outputs": [],
   "source": [
    "# If we want to test this model on new data, here is the code\n",
    "# pipe.fit(X, y)\n",
    "# pipe.predict(X_new)"
   ]
  },
  {
   "cell_type": "code",
   "execution_count": 13,
   "metadata": {},
   "outputs": [],
   "source": [
    "y_pred = pipe.predict(X_train)"
   ]
  },
  {
   "cell_type": "code",
   "execution_count": 16,
   "metadata": {},
   "outputs": [
    {
     "name": "stdout",
     "output_type": "stream",
     "text": [
      "Meilleurs paramètres:  {'logisticregression__C': 100, 'logisticregression__penalty': 'l2'}\n",
      "Meilleur score de cross-validation:  0.7537774602607609\n",
      "Précision:  0.7606467205600467\n",
      "Rappel:  0.8643631436314363\n",
      "Score F1:  0.8162507997440819\n"
     ]
    }
   ],
   "source": [
    "from sklearn.model_selection import GridSearchCV\n",
    "from sklearn.metrics import accuracy_score, precision_score, recall_score, f1_score\n",
    "\n",
    "# Paramètres pour GridSearchCV\n",
    "param_grid = {\n",
    "    'logisticregression__C': [40, 100, 200],  # Coefficients de régularisation\n",
    "    'logisticregression__penalty': ['l2']  # Normes de régularisation\n",
    "}\n",
    "\n",
    "# Initialisation de GridSearchCV\n",
    "grid_search = GridSearchCV(pipe, param_grid, cv=5, scoring='accuracy')\n",
    "\n",
    "# Entraînement avec GridSearchCV\n",
    "grid_search.fit(X_train, y_train)\n",
    "\n",
    "# Meilleurs paramètres et meilleur score\n",
    "print(\"Meilleurs paramètres: \", grid_search.best_params_)\n",
    "print(\"Meilleur score de cross-validation: \", grid_search.best_score_)\n",
    "\n",
    "# Utiliser le meilleur modèle pour prédire les données de test\n",
    "y_pred = grid_search.predict(X_test)\n",
    "\n",
    "# Calculer des métriques de performance\n",
    "print(\"Précision: \", accuracy_score(y_test, y_pred))\n",
    "print(\"Rappel: \", recall_score(y_test, y_pred, pos_label='B'))\n",
    "print(\"Score F1: \", f1_score(y_test, y_pred, pos_label='B'))\n",
    "\n",
    "# Générer des graphiques\n",
    "# ...\n",
    "\n"
   ]
  },
  {
   "cell_type": "code",
   "execution_count": 17,
   "metadata": {},
   "outputs": [
    {
     "data": {
      "image/png": "[encoded data removed]",
      "text/plain": [
       "<Figure size 640x480 with 1 Axes>"
      ]
     },
     "metadata": {},
     "output_type": "display_data"
    }
   ],
   "source": [
    "from sklearn.metrics import roc_curve, auc\n",
    "import matplotlib.pyplot as plt\n",
    "\n",
    "# Prédire les probabilités pour la classe positive\n",
    "y_scores = grid_search.predict_proba(X_test)[:, 1]\n",
    "\n",
    "# Calculer les taux de faux et vrais positifs\n",
    "fpr, tpr, thresholds = roc_curve(y_test, y_scores, pos_label='B')\n",
    "\n",
    "# Calculer l'aire sous la courbe ROC\n",
    "roc_auc = auc(fpr, tpr)\n",
    "\n",
    "# Tracer la courbe ROC\n",
    "plt.figure()\n",
    "plt.plot(fpr, tpr, color='darkorange', lw=2, label='ROC curve (area = %0.2f)' % roc_auc)\n",
    "plt.plot([0, 1], [0, 1], color='navy', lw=2, linestyle='--')\n",
    "plt.xlim([0.0, 1.0])\n",
    "plt.ylim([0.0, 1.05])\n",
    "plt.xlabel('False Positive Rate')\n",
    "plt.ylabel('True Positive Rate')\n",
    "plt.title('Receiver Operating Characteristic (ROC)')\n",
    "plt.legend(loc=\"lower right\")\n",
    "plt.show()"
   ]
  }
 ],
 "metadata": {
  "kernelspec": {
   "display_name": "Python 3",
   "language": "python",
   "name": "python3"
  },
  "language_info": {
   "codemirror_mode": {
    "name": "ipython",
    "version": 3
   },
   "file_extension": ".py",
   "mimetype": "text/x-python",
   "name": "python",
   "nbconvert_exporter": "python",
   "pygments_lexer": "ipython3",
   "version": "3.11.0"
  }
 },
 "nbformat": 4,
 "nbformat_minor": 2
}
