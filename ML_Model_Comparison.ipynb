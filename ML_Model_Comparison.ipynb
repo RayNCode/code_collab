{
 "cells": [
  {
   "cell_type": "markdown",
   "id": "5f3ccce7",
   "metadata": {},
   "source": [
    "This is taking forever to run, so I am uploading it for now - even though it is incomplete, and not the cleanest code. I have some comments - my computer is unable to support every hyperparameter for XGBoost, so I had to comment some of them out for the code to run, it is still highly accurate, slightly lower than before but we can check this later. \n",
    "\n",
    "Are we using RandomisedCV or GridsearchCV? I ask because your comments say GridSearch but the code is for Randomised.\n",
    "\n",
    "My goal in the next 2 days (I have an exam on Friday, but nothing else):\n",
    "\n",
    "a. I want to compile a single notebook with a cleaning/merging/preprocessing section, and then 3 complete ML models (LR, Random Forest and XGB). The sectional layout in this one is what I would like to follow. Let me know what you think of it.\n",
    "\n",
    "b. For the final report, we can take parts writing it, it would be great if you could write the Data Cleaning bit, and I can write about the models. Again, let me know what you think. \n",
    "\n",
    "c. Tomorrow I want to optimise the code for LR, Random Forest and XGB and then do a comparison between all 3. This was really my goal for tonight, but this programme has taken forever to run. Let me know what you think."
   ]
  },
  {
   "cell_type": "code",
   "execution_count": 133,
   "id": "756ca4f3",
   "metadata": {},
   "outputs": [],
   "source": [
    "import pandas as pd\n",
    "import matplotlib.pyplot as plt\n",
    "import numpy as np"
   ]
  },
  {
   "cell_type": "markdown",
   "id": "2b398a49",
   "metadata": {},
   "source": [
    "## Preprocessing data - merging datasets and cleaning variables"
   ]
  },
  {
   "cell_type": "markdown",
   "id": "96cd7798",
   "metadata": {},
   "source": [
    "I have almost entirely kept your code in the preprocessing part, you can clean it/comment on it as you see fit."
   ]
  },
  {
   "cell_type": "code",
   "execution_count": 44,
   "id": "c761a246",
   "metadata": {},
   "outputs": [
    {
     "name": "stdout",
     "output_type": "stream",
     "text": [
      "(49993, 23)\n",
      "(49993, 26)\n",
      "(49993, 27)\n",
      "(49993, 28)\n",
      "(49993, 32)\n"
     ]
    },
    {
     "data": {
      "text/plain": [
       "(49993, 34)"
      ]
     },
     "execution_count": 44,
     "metadata": {},
     "output_type": "execute_result"
    }
   ],
   "source": [
    "learn_dataset_job = pd.read_csv(\"learn_dataset_job.csv\")\n",
    "work_desc = pd.read_csv(\"code_work_description_map.csv\")\n",
    "merged_df = pd.merge(learn_dataset_job, work_desc, left_on='work_description', right_on='N3', how='left')\n",
    "\n",
    "#Convertir les colonnes N2, N1 et N3 en chaînes de caractères\n",
    "merged_df['N2'] = merged_df['N2'].astype(str)\n",
    "merged_df['N1'] = merged_df['N1'].astype(str)\n",
    "merged_df['N3'] = merged_df['N3'].astype(str)\n",
    "\n",
    "#Remplir les valeurs manquantes dans N2 en fonction de N3\n",
    "merged_df['N2'].fillna(merged_df['N3'].str[:-2], inplace=True)\n",
    "#Remplir les valeurs manquantes dans N1 en fonction de N2\n",
    "merged_df['N1'].fillna(merged_df['N2'].str[:-1], inplace=True)\n",
    "\n",
    "learn_dataset = pd.read_csv(\"learn_dataset.csv\")\n",
    "data_2 = pd.merge(learn_dataset, merged_df, on=\"Id\", how=\"left\")\n",
    "print(data_2.shape)\n",
    "dept_code = pd.read_csv(\"city_adm.csv\")\n",
    "df_1 = data_2.merge(dept_code, on='insee_code')\n",
    "print(df_1.shape)\n",
    "emp_contract = pd.read_csv(\"learn_dataset_Emp_contract.csv\")\n",
    "df_2 = df_1.merge(emp_contract, on='Id', how='left')\n",
    "print(df_2.shape)\n",
    "learn_dataset_sport = pd.read_csv(\"learn_dataset_sport.csv\")\n",
    "df_3 = df_2.merge(learn_dataset_sport, on='Id', how='left')\n",
    "print(df_3.shape)\n",
    "code_Club = pd.read_csv(\"code_Club.csv\")\n",
    "df_4 = df_3.merge(code_Club, left_on='Club', right_on='Code', how='left')\n",
    "print(df_4.shape)\n",
    "dep = pd.read_csv(\"departments.csv\")\n",
    "df = df_4.merge(dep, on='dep', how='left')\n",
    "df.shape"
   ]
  },
  {
   "cell_type": "code",
   "execution_count": 45,
   "id": "e82fc655",
   "metadata": {},
   "outputs": [
    {
     "name": "stdout",
     "output_type": "stream",
     "text": [
      "Id                      int64\n",
      "insee_code             object\n",
      "is_student               bool\n",
      "OCCUPATION_42          object\n",
      "ACTIVITY_TYPE          object\n",
      "AGE_2019                int64\n",
      "household              object\n",
      "Highest_degree         object\n",
      "sex                    object\n",
      "target                 object\n",
      "employer_category      object\n",
      "job_category           object\n",
      "EMPLOYEE_COUNT         object\n",
      "Terms_of_emp           object\n",
      "Eco_sect               object\n",
      "work_description       object\n",
      "Job_dep                object\n",
      "Working_hours         float64\n",
      "WORK_CONDITION         object\n",
      "EMOLUMENT             float64\n",
      "N3                     object\n",
      "N2                     object\n",
      "N1                     object\n",
      "Nom de la commune      object\n",
      "town_type              object\n",
      "dep                    object\n",
      "Emp_contract           object\n",
      "Club                   object\n",
      "Code                   object\n",
      "Categorie              object\n",
      "Nom fédération         object\n",
      "Nom catégorie          object\n",
      "Nom du département     object\n",
      "REG                    object\n",
      "dtype: object\n"
     ]
    },
    {
     "data": {
      "text/html": [
       "<div>\n",
       "<style scoped>\n",
       "    .dataframe tbody tr th:only-of-type {\n",
       "        vertical-align: middle;\n",
       "    }\n",
       "\n",
       "    .dataframe tbody tr th {\n",
       "        vertical-align: top;\n",
       "    }\n",
       "\n",
       "    .dataframe thead th {\n",
       "        text-align: right;\n",
       "    }\n",
       "</style>\n",
       "<table border=\"1\" class=\"dataframe\">\n",
       "  <thead>\n",
       "    <tr style=\"text-align: right;\">\n",
       "      <th></th>\n",
       "      <th>EMOLUMENT</th>\n",
       "    </tr>\n",
       "  </thead>\n",
       "  <tbody>\n",
       "    <tr>\n",
       "      <th>0</th>\n",
       "      <td>12928.0</td>\n",
       "    </tr>\n",
       "    <tr>\n",
       "      <th>1</th>\n",
       "      <td>15428.0</td>\n",
       "    </tr>\n",
       "    <tr>\n",
       "      <th>2</th>\n",
       "      <td>NaN</td>\n",
       "    </tr>\n",
       "    <tr>\n",
       "      <th>3</th>\n",
       "      <td>NaN</td>\n",
       "    </tr>\n",
       "    <tr>\n",
       "      <th>4</th>\n",
       "      <td>NaN</td>\n",
       "    </tr>\n",
       "    <tr>\n",
       "      <th>...</th>\n",
       "      <td>...</td>\n",
       "    </tr>\n",
       "    <tr>\n",
       "      <th>49988</th>\n",
       "      <td>30713.0</td>\n",
       "    </tr>\n",
       "    <tr>\n",
       "      <th>49989</th>\n",
       "      <td>NaN</td>\n",
       "    </tr>\n",
       "    <tr>\n",
       "      <th>49990</th>\n",
       "      <td>NaN</td>\n",
       "    </tr>\n",
       "    <tr>\n",
       "      <th>49991</th>\n",
       "      <td>27321.0</td>\n",
       "    </tr>\n",
       "    <tr>\n",
       "      <th>49992</th>\n",
       "      <td>17562.0</td>\n",
       "    </tr>\n",
       "  </tbody>\n",
       "</table>\n",
       "<p>49993 rows × 1 columns</p>\n",
       "</div>"
      ],
      "text/plain": [
       "       EMOLUMENT\n",
       "0        12928.0\n",
       "1        15428.0\n",
       "2            NaN\n",
       "3            NaN\n",
       "4            NaN\n",
       "...          ...\n",
       "49988    30713.0\n",
       "49989        NaN\n",
       "49990        NaN\n",
       "49991    27321.0\n",
       "49992    17562.0\n",
       "\n",
       "[49993 rows x 1 columns]"
      ]
     },
     "execution_count": 45,
     "metadata": {},
     "output_type": "execute_result"
    }
   ],
   "source": [
    "df['Categorie'] = df['Categorie'].astype('object')\n",
    "df['REG'] = df['REG'].astype('object')\n",
    "print(df.dtypes)\n",
    "\n",
    "df[[\"EMOLUMENT\"]]"
   ]
  },
  {
   "cell_type": "code",
   "execution_count": 46,
   "id": "b4e82855",
   "metadata": {},
   "outputs": [
    {
     "data": {
      "text/html": [
       "<div>\n",
       "<style scoped>\n",
       "    .dataframe tbody tr th:only-of-type {\n",
       "        vertical-align: middle;\n",
       "    }\n",
       "\n",
       "    .dataframe tbody tr th {\n",
       "        vertical-align: top;\n",
       "    }\n",
       "\n",
       "    .dataframe thead th {\n",
       "        text-align: right;\n",
       "    }\n",
       "</style>\n",
       "<table border=\"1\" class=\"dataframe\">\n",
       "  <thead>\n",
       "    <tr style=\"text-align: right;\">\n",
       "      <th></th>\n",
       "      <th>EMOLUMENT</th>\n",
       "    </tr>\n",
       "  </thead>\n",
       "  <tbody>\n",
       "    <tr>\n",
       "      <th>0</th>\n",
       "      <td>12928.0</td>\n",
       "    </tr>\n",
       "    <tr>\n",
       "      <th>1</th>\n",
       "      <td>15428.0</td>\n",
       "    </tr>\n",
       "    <tr>\n",
       "      <th>2</th>\n",
       "      <td>NaN</td>\n",
       "    </tr>\n",
       "    <tr>\n",
       "      <th>3</th>\n",
       "      <td>NaN</td>\n",
       "    </tr>\n",
       "    <tr>\n",
       "      <th>4</th>\n",
       "      <td>NaN</td>\n",
       "    </tr>\n",
       "    <tr>\n",
       "      <th>...</th>\n",
       "      <td>...</td>\n",
       "    </tr>\n",
       "    <tr>\n",
       "      <th>49988</th>\n",
       "      <td>30713.0</td>\n",
       "    </tr>\n",
       "    <tr>\n",
       "      <th>49989</th>\n",
       "      <td>NaN</td>\n",
       "    </tr>\n",
       "    <tr>\n",
       "      <th>49990</th>\n",
       "      <td>NaN</td>\n",
       "    </tr>\n",
       "    <tr>\n",
       "      <th>49991</th>\n",
       "      <td>27321.0</td>\n",
       "    </tr>\n",
       "    <tr>\n",
       "      <th>49992</th>\n",
       "      <td>17562.0</td>\n",
       "    </tr>\n",
       "  </tbody>\n",
       "</table>\n",
       "<p>49993 rows × 1 columns</p>\n",
       "</div>"
      ],
      "text/plain": [
       "       EMOLUMENT\n",
       "0        12928.0\n",
       "1        15428.0\n",
       "2            NaN\n",
       "3            NaN\n",
       "4            NaN\n",
       "...          ...\n",
       "49988    30713.0\n",
       "49989        NaN\n",
       "49990        NaN\n",
       "49991    27321.0\n",
       "49992    17562.0\n",
       "\n",
       "[49993 rows x 1 columns]"
      ]
     },
     "execution_count": 46,
     "metadata": {},
     "output_type": "execute_result"
    }
   ],
   "source": [
    "df[[\"EMOLUMENT\"]]"
   ]
  },
  {
   "cell_type": "code",
   "execution_count": 47,
   "id": "87f0ea13",
   "metadata": {},
   "outputs": [],
   "source": [
    "# Créez une condition pour filtrer les lignes où 'ACTIVITY_TYPE' n'est pas égal à \"TYPE1|2\"\n",
    "condition = (df['ACTIVITY_TYPE'] != \"TYPE1|1\")\n",
    "\n",
    "# Imputez les valeurs de 'EMOLUMENT' et 'Working_hours' à zéro pour les lignes qui satisfont la condition\n",
    "df.loc[condition, ['EMOLUMENT', 'Working_hours']] = 0.0"
   ]
  },
  {
   "cell_type": "code",
   "execution_count": 48,
   "id": "d5d33374",
   "metadata": {},
   "outputs": [
    {
     "data": {
      "text/html": [
       "<div>\n",
       "<style scoped>\n",
       "    .dataframe tbody tr th:only-of-type {\n",
       "        vertical-align: middle;\n",
       "    }\n",
       "\n",
       "    .dataframe tbody tr th {\n",
       "        vertical-align: top;\n",
       "    }\n",
       "\n",
       "    .dataframe thead th {\n",
       "        text-align: right;\n",
       "    }\n",
       "</style>\n",
       "<table border=\"1\" class=\"dataframe\">\n",
       "  <thead>\n",
       "    <tr style=\"text-align: right;\">\n",
       "      <th></th>\n",
       "      <th>EMOLUMENT</th>\n",
       "      <th>Working_hours</th>\n",
       "    </tr>\n",
       "  </thead>\n",
       "  <tbody>\n",
       "    <tr>\n",
       "      <th>0</th>\n",
       "      <td>12928.0</td>\n",
       "      <td>1818.0</td>\n",
       "    </tr>\n",
       "    <tr>\n",
       "      <th>1</th>\n",
       "      <td>15428.0</td>\n",
       "      <td>1408.0</td>\n",
       "    </tr>\n",
       "    <tr>\n",
       "      <th>2</th>\n",
       "      <td>0.0</td>\n",
       "      <td>0.0</td>\n",
       "    </tr>\n",
       "    <tr>\n",
       "      <th>3</th>\n",
       "      <td>0.0</td>\n",
       "      <td>0.0</td>\n",
       "    </tr>\n",
       "    <tr>\n",
       "      <th>4</th>\n",
       "      <td>0.0</td>\n",
       "      <td>0.0</td>\n",
       "    </tr>\n",
       "    <tr>\n",
       "      <th>...</th>\n",
       "      <td>...</td>\n",
       "      <td>...</td>\n",
       "    </tr>\n",
       "    <tr>\n",
       "      <th>49988</th>\n",
       "      <td>30713.0</td>\n",
       "      <td>1823.0</td>\n",
       "    </tr>\n",
       "    <tr>\n",
       "      <th>49989</th>\n",
       "      <td>0.0</td>\n",
       "      <td>0.0</td>\n",
       "    </tr>\n",
       "    <tr>\n",
       "      <th>49990</th>\n",
       "      <td>0.0</td>\n",
       "      <td>0.0</td>\n",
       "    </tr>\n",
       "    <tr>\n",
       "      <th>49991</th>\n",
       "      <td>27321.0</td>\n",
       "      <td>1778.0</td>\n",
       "    </tr>\n",
       "    <tr>\n",
       "      <th>49992</th>\n",
       "      <td>17562.0</td>\n",
       "      <td>1382.0</td>\n",
       "    </tr>\n",
       "  </tbody>\n",
       "</table>\n",
       "<p>49993 rows × 2 columns</p>\n",
       "</div>"
      ],
      "text/plain": [
       "       EMOLUMENT  Working_hours\n",
       "0        12928.0         1818.0\n",
       "1        15428.0         1408.0\n",
       "2            0.0            0.0\n",
       "3            0.0            0.0\n",
       "4            0.0            0.0\n",
       "...          ...            ...\n",
       "49988    30713.0         1823.0\n",
       "49989        0.0            0.0\n",
       "49990        0.0            0.0\n",
       "49991    27321.0         1778.0\n",
       "49992    17562.0         1382.0\n",
       "\n",
       "[49993 rows x 2 columns]"
      ]
     },
     "execution_count": 48,
     "metadata": {},
     "output_type": "execute_result"
    }
   ],
   "source": [
    "df[[\"EMOLUMENT\", \"Working_hours\"]]"
   ]
  },
  {
   "cell_type": "code",
   "execution_count": 49,
   "id": "c6ecf9b2",
   "metadata": {},
   "outputs": [],
   "source": [
    "categorical_columns = df.select_dtypes(include=['object']).columns\n",
    "df[categorical_columns] = df[categorical_columns].fillna(\"None\")"
   ]
  },
  {
   "cell_type": "code",
   "execution_count": 50,
   "id": "af992819",
   "metadata": {},
   "outputs": [],
   "source": [
    "y = df['target'].copy()\n",
    "y.to_csv(\"target_data.csv\", index=False)\n",
    "X = df.drop([\"Id\", \"target\", 'Nom de la commune', 'Nom fédération', 'Nom catégorie', 'Nom du département', 'Code'], axis=\"columns\").copy()"
   ]
  },
  {
   "cell_type": "code",
   "execution_count": 51,
   "id": "cd412d85",
   "metadata": {
    "scrolled": true
   },
   "outputs": [
    {
     "data": {
      "text/plain": [
       "4942"
      ]
     },
     "execution_count": 51,
     "metadata": {},
     "output_type": "execute_result"
    }
   ],
   "source": [
    "df_students = df[df['ACTIVITY_TYPE'] == \"TYPE1|1\"]\n",
    "null_counts = df_students.isnull().sum()\n",
    "null_counts['Working_hours']"
   ]
  },
  {
   "cell_type": "code",
   "execution_count": 52,
   "id": "4bc9d7e4",
   "metadata": {},
   "outputs": [],
   "source": [
    "#useful bc there are some missing values for Working_hours only 19270/24212 observations and EMOLUMENT 19279/24212.\n",
    "#Therefore, we have to estimate them by using a Random Forest Regressor.\n",
    "\n",
    "from sklearn.experimental import enable_iterative_imputer\n",
    "from sklearn.impute import IterativeImputer\n",
    "from sklearn.ensemble import RandomForestRegressor\n",
    "\n",
    "#Créez l'IterativeImputer en spécifiant le modèle de régression (RandomForestRegressor)\n",
    "imputer = IterativeImputer(estimator=RandomForestRegressor(), max_iter=50, random_state=0)\n",
    "\n",
    "columns_to_impute = ['Working_hours', 'EMOLUMENT']\n",
    "\n",
    "X[columns_to_impute] = imputer.fit_transform(X[columns_to_impute])"
   ]
  },
  {
   "cell_type": "code",
   "execution_count": 53,
   "id": "98cc9a23",
   "metadata": {},
   "outputs": [],
   "source": [
    "X.to_csv('X_Data.csv', index=False)"
   ]
  },
  {
   "cell_type": "code",
   "execution_count": 54,
   "id": "1ceee34f",
   "metadata": {},
   "outputs": [],
   "source": [
    "df = pd.DataFrame({'target': y})\n",
    "df.to_csv('Y_Data.csv', index=False)"
   ]
  },
  {
   "cell_type": "markdown",
   "id": "93a99f8e",
   "metadata": {},
   "source": [
    "## Logistic Regression"
   ]
  },
  {
   "cell_type": "code",
   "execution_count": 100,
   "id": "b6c570ad",
   "metadata": {},
   "outputs": [],
   "source": [
    "import pandas as pd\n",
    "from sklearn.model_selection import train_test_split, GridSearchCV\n",
    "from sklearn.preprocessing import StandardScaler\n",
    "from sklearn.linear_model import LogisticRegression\n",
    "from sklearn.metrics import accuracy_score, confusion_matrix, classification_report\n",
    "from sklearn.preprocessing import StandardScaler, OneHotEncoder\n",
    "from sklearn.compose import ColumnTransformer\n",
    "from sklearn.pipeline import Pipeline\n",
    "from sklearn.model_selection import GridSearchCV\n",
    "from sklearn.model_selection import StratifiedKFold, RandomizedSearchCV\n",
    "from sklearn.compose import ColumnTransformer\n",
    "from sklearn.pipeline import make_pipeline"
   ]
  },
  {
   "cell_type": "code",
   "execution_count": 101,
   "id": "446ad17a",
   "metadata": {},
   "outputs": [],
   "source": [
    "final_df = pd.read_csv('X_Data.csv', low_memory=False)\n",
    "df = pd.read_csv('target_data.csv')\n",
    "y = df['target'].copy()\n",
    "y = np.where(y == 'B', 1, 0)\n",
    "categorical_columns = final_df.select_dtypes(include=['object']).columns\n",
    "final_df['N1'] = final_df['N1'].astype(str).astype('object')\n",
    "final_df['N2'] = final_df['N2'].astype(str).astype('object')\n",
    "final_df['N3'] = final_df['N3'].astype(str).astype('object')\n",
    "final_df['Categorie'] = final_df['Categorie'].astype(str).astype('object')\n",
    "final_df['REG'] = final_df['REG'].astype(str).astype('object')\n",
    "final_df[categorical_columns] = final_df[categorical_columns].fillna(\"None\")\n",
    "X = final_df.copy()"
   ]
  },
  {
   "cell_type": "code",
   "execution_count": 102,
   "id": "96957383",
   "metadata": {},
   "outputs": [],
   "source": [
    "X_train, X_test, y_train, y_test = train_test_split(X, y, test_size=0.2, random_state=42)"
   ]
  },
  {
   "cell_type": "code",
   "execution_count": 103,
   "id": "f75e9140",
   "metadata": {},
   "outputs": [],
   "source": [
    "preprocessing = make_column_transformer (\n",
    "    (OneHotEncoder(handle_unknown='ignore'), ['insee_code',\"is_student\", \"OCCUPATION_42\", \"ACTIVITY_TYPE\", \"household\", \"sex\", \"employer_category\", \"job_category\", \"Terms_of_emp\",\n",
    "                       \"Eco_sect\", \"Job_dep\", \"WORK_CONDITION\", \"work_description\",\"N3\", \"N2\", \"N1\", \"town_type\", \"dep\", \"Emp_contract\", \"Club\", \"Categorie\", 'REG']),\n",
    "    (OrdinalEncoder(), [\"Highest_degree\", \"EMPLOYEE_COUNT\"]),\n",
    "    remainder='passthrough')"
   ]
  },
  {
   "cell_type": "code",
   "execution_count": 104,
   "id": "b263b162",
   "metadata": {},
   "outputs": [],
   "source": [
    "def tune_hyperparameters_logreg(X_train, y_train, param_grid):\n",
    "\n",
    "    cv = StratifiedKFold(n_splits=5, shuffle=True, random_state=0)\n",
    "\n",
    "    logreg = LogisticRegression(random_state=42)\n",
    "\n",
    "    pipeline = Pipeline([\n",
    "        ('classifier', logreg)\n",
    "    ])\n",
    "\n",
    "    #RandomizedSearch\n",
    "    logreg_grid = RandomizedSearchCV(\n",
    "        estimator=pipeline,\n",
    "        param_distributions=param_grid,\n",
    "        cv=cv,\n",
    "        scoring='accuracy',\n",
    "        n_iter=50,\n",
    "        n_jobs=-1\n",
    "    )\n",
    "\n",
    "    logreg_grid.fit(X_train, y_train)\n",
    "\n",
    "    print(\"Best hyperparameters:\\n\", logreg_grid.best_params_)\n",
    "\n",
    "    return logreg_grid.best_estimator_"
   ]
  },
  {
   "cell_type": "code",
   "execution_count": 111,
   "id": "d28f8cc5",
   "metadata": {},
   "outputs": [],
   "source": [
    "param_grid_logreg = {\n",
    "    'logisticregression__C': [0.001, 0.01, 0.1, 1, 10, 100, 1000],\n",
    "    'logisticregression__penalty': ['l1', 'l2'],\n",
    "    'logisticregression__solver': ['newton-cg', 'lbfgs', 'liblinear', 'sag', 'saga'],\n",
    "    'logisticregression__max_iter': [50, 100, 200, 500],\n",
    "}"
   ]
  },
  {
   "cell_type": "code",
   "execution_count": 112,
   "id": "338cf717",
   "metadata": {},
   "outputs": [
    {
     "name": "stderr",
     "output_type": "stream",
     "text": [
      "C:\\Users\\ASUS\\anaconda3\\Lib\\site-packages\\sklearn\\model_selection\\_validation.py:425: FitFailedWarning: \n",
      "70 fits failed out of a total of 250.\n",
      "The score on these train-test partitions for these parameters will be set to nan.\n",
      "If these failures are not expected, you can try to debug them by setting error_score='raise'.\n",
      "\n",
      "Below are more details about the failures:\n",
      "--------------------------------------------------------------------------------\n",
      "25 fits failed with the following error:\n",
      "Traceback (most recent call last):\n",
      "  File \"C:\\Users\\ASUS\\anaconda3\\Lib\\site-packages\\sklearn\\model_selection\\_validation.py\", line 732, in _fit_and_score\n",
      "    estimator.fit(X_train, y_train, **fit_params)\n",
      "  File \"C:\\Users\\ASUS\\anaconda3\\Lib\\site-packages\\sklearn\\base.py\", line 1151, in wrapper\n",
      "    return fit_method(estimator, *args, **kwargs)\n",
      "           ^^^^^^^^^^^^^^^^^^^^^^^^^^^^^^^^^^^^^^\n",
      "  File \"C:\\Users\\ASUS\\anaconda3\\Lib\\site-packages\\sklearn\\pipeline.py\", line 420, in fit\n",
      "    self._final_estimator.fit(Xt, y, **fit_params_last_step)\n",
      "  File \"C:\\Users\\ASUS\\anaconda3\\Lib\\site-packages\\sklearn\\base.py\", line 1151, in wrapper\n",
      "    return fit_method(estimator, *args, **kwargs)\n",
      "           ^^^^^^^^^^^^^^^^^^^^^^^^^^^^^^^^^^^^^^\n",
      "  File \"C:\\Users\\ASUS\\anaconda3\\Lib\\site-packages\\sklearn\\linear_model\\_logistic.py\", line 1168, in fit\n",
      "    solver = _check_solver(self.solver, self.penalty, self.dual)\n",
      "             ^^^^^^^^^^^^^^^^^^^^^^^^^^^^^^^^^^^^^^^^^^^^^^^^^^^\n",
      "  File \"C:\\Users\\ASUS\\anaconda3\\Lib\\site-packages\\sklearn\\linear_model\\_logistic.py\", line 56, in _check_solver\n",
      "    raise ValueError(\n",
      "ValueError: Solver sag supports only 'l2' or 'none' penalties, got l1 penalty.\n",
      "\n",
      "--------------------------------------------------------------------------------\n",
      "30 fits failed with the following error:\n",
      "Traceback (most recent call last):\n",
      "  File \"C:\\Users\\ASUS\\anaconda3\\Lib\\site-packages\\sklearn\\model_selection\\_validation.py\", line 732, in _fit_and_score\n",
      "    estimator.fit(X_train, y_train, **fit_params)\n",
      "  File \"C:\\Users\\ASUS\\anaconda3\\Lib\\site-packages\\sklearn\\base.py\", line 1151, in wrapper\n",
      "    return fit_method(estimator, *args, **kwargs)\n",
      "           ^^^^^^^^^^^^^^^^^^^^^^^^^^^^^^^^^^^^^^\n",
      "  File \"C:\\Users\\ASUS\\anaconda3\\Lib\\site-packages\\sklearn\\pipeline.py\", line 420, in fit\n",
      "    self._final_estimator.fit(Xt, y, **fit_params_last_step)\n",
      "  File \"C:\\Users\\ASUS\\anaconda3\\Lib\\site-packages\\sklearn\\base.py\", line 1151, in wrapper\n",
      "    return fit_method(estimator, *args, **kwargs)\n",
      "           ^^^^^^^^^^^^^^^^^^^^^^^^^^^^^^^^^^^^^^\n",
      "  File \"C:\\Users\\ASUS\\anaconda3\\Lib\\site-packages\\sklearn\\linear_model\\_logistic.py\", line 1168, in fit\n",
      "    solver = _check_solver(self.solver, self.penalty, self.dual)\n",
      "             ^^^^^^^^^^^^^^^^^^^^^^^^^^^^^^^^^^^^^^^^^^^^^^^^^^^\n",
      "  File \"C:\\Users\\ASUS\\anaconda3\\Lib\\site-packages\\sklearn\\linear_model\\_logistic.py\", line 56, in _check_solver\n",
      "    raise ValueError(\n",
      "ValueError: Solver lbfgs supports only 'l2' or 'none' penalties, got l1 penalty.\n",
      "\n",
      "--------------------------------------------------------------------------------\n",
      "15 fits failed with the following error:\n",
      "Traceback (most recent call last):\n",
      "  File \"C:\\Users\\ASUS\\anaconda3\\Lib\\site-packages\\sklearn\\model_selection\\_validation.py\", line 732, in _fit_and_score\n",
      "    estimator.fit(X_train, y_train, **fit_params)\n",
      "  File \"C:\\Users\\ASUS\\anaconda3\\Lib\\site-packages\\sklearn\\base.py\", line 1151, in wrapper\n",
      "    return fit_method(estimator, *args, **kwargs)\n",
      "           ^^^^^^^^^^^^^^^^^^^^^^^^^^^^^^^^^^^^^^\n",
      "  File \"C:\\Users\\ASUS\\anaconda3\\Lib\\site-packages\\sklearn\\pipeline.py\", line 420, in fit\n",
      "    self._final_estimator.fit(Xt, y, **fit_params_last_step)\n",
      "  File \"C:\\Users\\ASUS\\anaconda3\\Lib\\site-packages\\sklearn\\base.py\", line 1151, in wrapper\n",
      "    return fit_method(estimator, *args, **kwargs)\n",
      "           ^^^^^^^^^^^^^^^^^^^^^^^^^^^^^^^^^^^^^^\n",
      "  File \"C:\\Users\\ASUS\\anaconda3\\Lib\\site-packages\\sklearn\\linear_model\\_logistic.py\", line 1168, in fit\n",
      "    solver = _check_solver(self.solver, self.penalty, self.dual)\n",
      "             ^^^^^^^^^^^^^^^^^^^^^^^^^^^^^^^^^^^^^^^^^^^^^^^^^^^\n",
      "  File \"C:\\Users\\ASUS\\anaconda3\\Lib\\site-packages\\sklearn\\linear_model\\_logistic.py\", line 56, in _check_solver\n",
      "    raise ValueError(\n",
      "ValueError: Solver newton-cg supports only 'l2' or 'none' penalties, got l1 penalty.\n",
      "\n",
      "  warnings.warn(some_fits_failed_message, FitFailedWarning)\n",
      "C:\\Users\\ASUS\\anaconda3\\Lib\\site-packages\\sklearn\\model_selection\\_search.py:976: UserWarning: One or more of the test scores are non-finite: [0.67572647 0.67365114 0.83737568 0.68017713 0.68182733 0.76711521\n",
      " 0.67572647        nan 0.87728171 0.68762836        nan 0.84805224\n",
      "        nan 0.67365114        nan        nan        nan        nan\n",
      " 0.73306081 0.86805537 0.88293265 0.67365114        nan 0.67572647\n",
      " 0.67365114 0.84917826        nan 0.87728171 0.74668669 0.67247597\n",
      " 0.83737568 0.67365114 0.67365114 0.68770338        nan        nan\n",
      "        nan        nan 0.68182733 0.68182733        nan 0.67367615\n",
      " 0.67570147 0.69547939 0.71283244 0.68017713 0.67247597 0.67570147\n",
      " 0.84805224 0.7607899 ]\n",
      "  warnings.warn(\n",
      "C:\\Users\\ASUS\\anaconda3\\Lib\\site-packages\\sklearn\\utils\\optimize.py:211: ConvergenceWarning: newton-cg failed to converge. Increase the number of iterations.\n",
      "  warnings.warn(\n"
     ]
    }
   ],
   "source": [
    "logreg = LogisticRegression(random_state=42)\n",
    "\n",
    "LR = make_pipeline(\n",
    "    preprocessing,\n",
    "    logreg\n",
    ")\n",
    "\n",
    "cv = StratifiedKFold(n_splits=5, shuffle=True, random_state=0)\n",
    "\n",
    "logreg_opt = RandomizedSearchCV(\n",
    "    estimator=LR,\n",
    "    param_distributions=param_grid_logreg,\n",
    "    cv=cv,\n",
    "    scoring='accuracy',\n",
    "    n_iter=50,\n",
    "    n_jobs=-1\n",
    ")\n",
    "\n",
    "logreg_opt.fit(X_train, y_train)\n",
    "best_logreg = logreg_opt.best_estimator_"
   ]
  },
  {
   "cell_type": "code",
   "execution_count": 113,
   "id": "61f68d09",
   "metadata": {},
   "outputs": [],
   "source": [
    "from sklearn.metrics import accuracy_score, precision_score, recall_score, f1_score, roc_auc_score\n",
    "\n",
    "def metrics_calculator_logreg(logreg, X_test, y_test, model_name):\n",
    "\n",
    "    y_pred = logreg.predict(X_test)\n",
    "    result = pd.DataFrame(data=[accuracy_score(y_test, y_pred),\n",
    "                                precision_score(y_test, y_pred, average='macro'),\n",
    "                                recall_score(y_test, y_pred, average='macro'),\n",
    "                                f1_score(y_test, y_pred, average='macro'),\n",
    "                                roc_auc_score(y_test, logreg.predict_proba(X_test)[:, 1], average='macro')],\n",
    "                          index=['Accuracy', 'Macro Precision', 'Macro Recall', 'Macro F1-score', 'Macro AUC'],\n",
    "                          columns=[model_name])\n",
    "\n",
    "    result = (result * 100).round(2).astype(str) + '%'\n",
    "    return result"
   ]
  },
  {
   "cell_type": "code",
   "execution_count": null,
   "id": "181f917d",
   "metadata": {},
   "outputs": [],
   "source": [
    "metrics_result_logreg = metrics_calculator_logreg(logreg, X_test, y_test, 'Logistic Regression')\n",
    "print(metrics_result_logreg)\n",
    "\n",
    "##might be difficult to run because memory problems"
   ]
  },
  {
   "cell_type": "code",
   "execution_count": null,
   "id": "c491976e",
   "metadata": {},
   "outputs": [],
   "source": [
    "def model_evaluation_logreg(logreg, X_train, X_test, y_train, y_test, model_name):\n",
    "\n",
    "    sns.set(font_scale=1.5)\n",
    "\n",
    "    #Classification Reports\n",
    "    \n",
    "    y_pred_train = logreg.predict(X_train)\n",
    "    print(\"\\n\\t  Classification report for training set\")\n",
    "    print(\"-\" * 55)\n",
    "    print(classification_report(y_train, y_pred_train))\n",
    "\n",
    "    y_pred_test = logreg.predict(X_test)\n",
    "    print(\"\\n\\t   Classification report for test set\")\n",
    "    print(\"-\" * 55)\n",
    "    print(classification_report(y_test, y_pred_test))\n",
    "    print('\\n')\n",
    "\n",
    "    fig, (ax1, ax2) = plt.subplots(1, 2, dpi=90, figsize=(12, 5))\n",
    "\n",
    "    #Confusion Matrix\n",
    "    cmap = plt.cm.Purples\n",
    "\n",
    "    ConfusionMatrixDisplay.from_estimator(logreg, X_test, y_test, colorbar=False, cmap=cmap, ax=ax1)\n",
    "    ax1.set_title('Confusion Matrix for Test Data')\n",
    "    ax1.grid(False)\n",
    "\n",
    "    #Summary Table\n",
    "    result = metrics_calculator_logreg(logreg, X_test, y_test, model_name)\n",
    "    table = ax2.table(cellText=result.values, colLabels=result.columns, rowLabels=result.index, loc='center')\n",
    "    table.scale(0.6, 3.6)\n",
    "    table.set_fontsize(12)\n",
    "    ax2.axis('tight')\n",
    "    ax2.axis('off')\n",
    "    ax2.set_title('{} Performance Summary on Test Data'.format(model_name), fontsize=18)\n",
    "\n",
    "    for key, cell in table.get_celld().items():\n",
    "        if key[0] == 0:\n",
    "            cell.set_color('purple')\n",
    "\n",
    "    plt.tight_layout()\n",
    "    plt.show()\n",
    "\n",
    "model_evaluation_logreg(logreg, X_train, X_test, y_train, y_test, model_name)"
   ]
  },
  {
   "cell_type": "code",
   "execution_count": null,
   "id": "e8eb4006",
   "metadata": {},
   "outputs": [],
   "source": []
  },
  {
   "cell_type": "markdown",
   "id": "4640b5a6",
   "metadata": {},
   "source": [
    "## Random Forest"
   ]
  },
  {
   "cell_type": "code",
   "execution_count": null,
   "id": "c84ebdad",
   "metadata": {},
   "outputs": [],
   "source": []
  },
  {
   "cell_type": "code",
   "execution_count": null,
   "id": "c6e4fe9e",
   "metadata": {},
   "outputs": [],
   "source": []
  },
  {
   "cell_type": "code",
   "execution_count": null,
   "id": "15ca7e79",
   "metadata": {},
   "outputs": [],
   "source": []
  },
  {
   "cell_type": "code",
   "execution_count": null,
   "id": "022379ab",
   "metadata": {},
   "outputs": [],
   "source": []
  },
  {
   "cell_type": "code",
   "execution_count": null,
   "id": "ed523f1c",
   "metadata": {},
   "outputs": [],
   "source": []
  },
  {
   "cell_type": "code",
   "execution_count": null,
   "id": "809f8e76",
   "metadata": {},
   "outputs": [],
   "source": []
  },
  {
   "cell_type": "code",
   "execution_count": null,
   "id": "110aaac6",
   "metadata": {},
   "outputs": [],
   "source": []
  },
  {
   "cell_type": "code",
   "execution_count": null,
   "id": "b3cbeb61",
   "metadata": {},
   "outputs": [],
   "source": []
  },
  {
   "cell_type": "code",
   "execution_count": null,
   "id": "a7522f2a",
   "metadata": {},
   "outputs": [],
   "source": []
  },
  {
   "cell_type": "code",
   "execution_count": null,
   "id": "454bd72c",
   "metadata": {},
   "outputs": [],
   "source": []
  },
  {
   "cell_type": "markdown",
   "id": "185f2faa",
   "metadata": {},
   "source": [
    "## Gradient Boosting Algorithm"
   ]
  },
  {
   "cell_type": "code",
   "execution_count": 115,
   "id": "5c194794",
   "metadata": {},
   "outputs": [],
   "source": [
    "from sklearn.metrics import roc_auc_score, accuracy_score, precision_score, recall_score, f1_score\n",
    "import xgboost as xgb\n",
    "from xgboost import XGBClassifier\n",
    "import seaborn as sns\n",
    "from sklearn.model_selection import train_test_split\n",
    "import sklearn\n",
    "sklearn.set_config(display=\"diagram\")\n",
    "from sklearn.compose import make_column_transformer\n",
    "from sklearn.preprocessing import OrdinalEncoder\n",
    "from sklearn.preprocessing import OneHotEncoder\n",
    "from sklearn.pipeline import make_pipeline\n",
    "from sklearn.model_selection import cross_val_score\n",
    "from itertools import combinations\n",
    "from sklearn.model_selection import cross_validate\n",
    "from sklearn.model_selection import StratifiedKFold\n",
    "from sklearn.model_selection import GridSearchCV\n",
    "from sklearn.model_selection import RandomizedSearchCV\n",
    "from sklearn.metrics import ConfusionMatrixDisplay\n",
    "from sklearn.metrics import classification_report"
   ]
  },
  {
   "cell_type": "code",
   "execution_count": 116,
   "id": "e8ea6542",
   "metadata": {},
   "outputs": [],
   "source": [
    "final_df = pd.read_csv('X_Data.csv', low_memory=False)\n",
    "df = pd.read_csv('target_data.csv')\n",
    "y = df['target'].copy()\n",
    "y = np.where(y == 'B', 1, 0)\n",
    "categorical_columns = final_df.select_dtypes(include=['object']).columns\n",
    "final_df['N1'] = final_df['N1'].astype(str).astype('object')\n",
    "final_df['N2'] = final_df['N2'].astype(str).astype('object')\n",
    "final_df['N3'] = final_df['N3'].astype(str).astype('object')\n",
    "final_df['Categorie'] = final_df['Categorie'].astype(str).astype('object')\n",
    "final_df['REG'] = final_df['REG'].astype(str).astype('object')\n",
    "final_df[categorical_columns] = final_df[categorical_columns].fillna(\"None\")\n",
    "X = final_df.copy()"
   ]
  },
  {
   "cell_type": "code",
   "execution_count": 117,
   "id": "5d3dc307",
   "metadata": {},
   "outputs": [],
   "source": [
    "X_train, X_test, y_train, y_test = train_test_split(X, y, test_size=0.2, random_state=0, stratify=y)"
   ]
  },
  {
   "cell_type": "code",
   "execution_count": 118,
   "id": "5306061d",
   "metadata": {},
   "outputs": [],
   "source": [
    "preprocessing = make_column_transformer (\n",
    "    (OneHotEncoder(handle_unknown='ignore'), ['insee_code',\"is_student\", \"OCCUPATION_42\", \"ACTIVITY_TYPE\", \"household\", \"sex\", \"employer_category\", \"job_category\", \"Terms_of_emp\",\n",
    "                       \"Eco_sect\", \"Job_dep\", \"WORK_CONDITION\", \"work_description\",\"N3\", \"N2\", \"N1\", \"town_type\", \"dep\", \"Emp_contract\", \"Club\", \"Categorie\", 'REG']),\n",
    "    (OrdinalEncoder(), [\"Highest_degree\", \"EMPLOYEE_COUNT\"]),\n",
    "    remainder='passthrough')"
   ]
  },
  {
   "cell_type": "code",
   "execution_count": 119,
   "id": "d39f2f90",
   "metadata": {},
   "outputs": [],
   "source": [
    "def tune_hyperparameters(pipeline, param_grid, X_train, y_train):\n",
    "    \"\"\"\n",
    "    This function tunes the hyperparameters of a classifier using GridSearchCV and cross-validation\n",
    "    and returns the best classifier model with the optimal hyperparameters.\n",
    "    \"\"\"\n",
    "\n",
    "    # Create the cross-validation object using StratifiedKFold to ensure the class distribution is the same across all the folds\n",
    "    cv = StratifiedKFold(n_splits=5, shuffle=True, random_state=0)\n",
    "\n",
    "    # Create the RandomizedSearch object\n",
    "    clf_grid = RandomizedSearchCV(\n",
    "        estimator=pipeline,\n",
    "        param_distributions=param_grid,\n",
    "        cv=cv, scoring='accuracy',\n",
    "        n_iter=50,\n",
    "        n_jobs=-1)\n",
    "\n",
    "    # Fit the GridSearchCV object to the training data\n",
    "    clf_grid.fit(X_train, y_train)\n",
    "\n",
    "    # Get the best hyperparameters\n",
    "    print(\"Best hyperparameters:\\n\", clf_grid.best_params_)\n",
    "\n",
    "    # Return best_estimator_ attribute which gives us the best model that has been fitted to the training data\n",
    "    return clf_grid.best_estimator_\n"
   ]
  },
  {
   "cell_type": "code",
   "execution_count": 128,
   "id": "43a508c7",
   "metadata": {},
   "outputs": [],
   "source": [
    "# Define the hyperparameter grid to search\n",
    "xgb_param_grid = {\n",
    "    'xgbclassifier__subsample': np.arange(0.7, 0.9, 0.01),\n",
    "    'xgbclassifier__scale_pos_weight': np.arange(0.7, 0.9, 0.01),\n",
    "    'xgbclassifier__reg_lambda': np.arange(0.08, 0.10, 0.01),\n",
    "    'xgbclassifier__reg_alpha': np.arange(0.01, 1, 0.01),\n",
    "    'xgbclassifier__n_estimators': np.arange(140, 161, 1),\n",
    "    'xgbclassifier__min_child_weight': np.arange(3, 3.5, 0.01),\n",
    "    'xgbclassifier__max_depth': np.arange(4, 6, 1),\n",
    "    'xgbclassifier__max_delta_step': np.arange(1.5, 2, 0.01),\n",
    "    'xgbclassifier__learning_rate': np.arange(0.7, 1, 0.01),\n",
    "    'xgbclassifier__gamma': np.arange(0.8, 1, 0.001),\n",
    "    'xgbclassifier__colsample_bytree': np.arange(0.65, 0.75, 0.01),\n",
    "    'xgbclassifier__colsample_bylevel': np.arange(0.8, 1, 0.01),\n",
    "    }"
   ]
  },
  {
   "cell_type": "code",
   "execution_count": 129,
   "id": "1948f56f",
   "metadata": {},
   "outputs": [
    {
     "name": "stdout",
     "output_type": "stream",
     "text": [
      "Best hyperparameters:\n",
      " {'xgbclassifier__subsample': 0.81, 'xgbclassifier__reg_alpha': 0.87, 'xgbclassifier__max_depth': 5, 'xgbclassifier__max_delta_step': 1.9100000000000004, 'xgbclassifier__learning_rate': 0.8900000000000001, 'xgbclassifier__colsample_bytree': 0.7200000000000001}\n"
     ]
    }
   ],
   "source": [
    "XGBoost = XGBClassifier(random_state=42)\n",
    "XGB = make_pipeline(preprocessing, XGBoost)\n",
    "\n",
    "xgb_opt = tune_hyperparameters(XGB, xgb_param_grid, X_train, y_train)"
   ]
  },
  {
   "cell_type": "code",
   "execution_count": 130,
   "id": "dbcad61b",
   "metadata": {},
   "outputs": [],
   "source": [
    "#This function calculates all desired performance metrics for a given model on test data\n",
    "\n",
    "def metrics_calculator(clf, X_test, y_test, model_name):\n",
    "    \n",
    "    y_pred = clf.predict(X_test)\n",
    "    result = pd.DataFrame(data=[accuracy_score(y_test, y_pred),\n",
    "                                precision_score(y_test, y_pred, average='macro'),\n",
    "                                recall_score(y_test, y_pred, average='macro'),\n",
    "                                f1_score(y_test, y_pred, average='macro'),\n",
    "                                roc_auc_score(y_test, clf.predict_proba(X_test)[::,1], average='macro')],\n",
    "                          index=['Accuracy','Macro Precision','Macro Recall','Macro F1-score','Macro AUC'],\n",
    "                          columns = [model_name])\n",
    "\n",
    "    result = (result * 100).round(2).astype(str) + '%'\n",
    "    return result"
   ]
  },
  {
   "cell_type": "code",
   "execution_count": 131,
   "id": "7e4a9278",
   "metadata": {},
   "outputs": [],
   "source": [
    "#This function provides a complete report of the model's performance including classification reports and confusion matrix\n",
    "\n",
    "def model_evaluation(clf, X_train, X_test, y_train, y_test, model_name):\n",
    "\n",
    "    sns.set(font_scale=1.5)\n",
    "\n",
    "    #Classification report for training set\n",
    "    y_pred_train = clf.predict(X_train)\n",
    "    print(\"\\n\\t  Classification report for training set\")\n",
    "    print(\"-\"*55)\n",
    "    print(classification_report(y_train, y_pred_train))\n",
    "\n",
    "    #Classification report for test set\n",
    "    y_pred_test = clf.predict(X_test)\n",
    "    print(\"\\n\\t   Classification report for test set\")\n",
    "    print(\"-\"*55)\n",
    "    print(classification_report(y_test, y_pred_test))\n",
    "    print('\\n')\n",
    "    \n",
    "    fig, (ax1, ax2) = plt.subplots(1, 2, dpi=90, figsize=(12, 5))\n",
    "\n",
    "    #Confusion matrix for test set\n",
    "    cmap = plt.cm.Purples \n",
    "\n",
    "    ConfusionMatrixDisplay.from_estimator(clf, X_test, y_test, colorbar=False, cmap=cmap, ax=ax1)\n",
    "    ax1.set_title('Confusion Matrix for Test Data')\n",
    "    ax1.grid(False)\n",
    "\n",
    "    # Report desired results as a summary in the form of a table\n",
    "    result = metrics_calculator(clf, X_test, y_test, model_name)\n",
    "    table = ax2.table(cellText=result.values, colLabels=result.columns, rowLabels=result.index, loc='center')\n",
    "    table.scale(0.6, 3.6)\n",
    "    table.set_fontsize(12)\n",
    "    ax2.axis('tight')\n",
    "    ax2.axis('off')\n",
    "    ax2.set_title('{} Performance Summary on Test Data'.format(model_name), fontsize=18)\n",
    "    \n",
    "    for key, cell in table.get_celld().items():\n",
    "        if key[0] == 0:\n",
    "          cell.set_color('purple')\n",
    "\n",
    "    plt.tight_layout()\n",
    "    plt.show()"
   ]
  },
  {
   "cell_type": "code",
   "execution_count": 132,
   "id": "7404876b",
   "metadata": {},
   "outputs": [
    {
     "name": "stdout",
     "output_type": "stream",
     "text": [
      "\n",
      "\t  Classification report for training set\n",
      "-------------------------------------------------------\n",
      "              precision    recall  f1-score   support\n",
      "\n",
      "           0       0.93      0.92      0.93     15412\n",
      "           1       0.95      0.96      0.95     24582\n",
      "\n",
      "    accuracy                           0.94     39994\n",
      "   macro avg       0.94      0.94      0.94     39994\n",
      "weighted avg       0.94      0.94      0.94     39994\n",
      "\n",
      "\n",
      "\t   Classification report for test set\n",
      "-------------------------------------------------------\n",
      "              precision    recall  f1-score   support\n",
      "\n",
      "           0       0.88      0.88      0.88      3853\n",
      "           1       0.92      0.93      0.92      6146\n",
      "\n",
      "    accuracy                           0.91      9999\n",
      "   macro avg       0.90      0.90      0.90      9999\n",
      "weighted avg       0.91      0.91      0.91      9999\n",
      "\n",
      "\n",
      "\n"
     ]
    },
    {
     "data": {
      "image/png": "[encoded data removed]",
      "text/plain": [
       "<Figure size 1080x450 with 2 Axes>"
      ]
     },
     "metadata": {},
     "output_type": "display_data"
    }
   ],
   "source": [
    "model_evaluation(xgb_opt, X_train, X_test, y_train, y_test, 'XGBoost')"
   ]
  },
  {
   "cell_type": "markdown",
   "id": "a4634712",
   "metadata": {},
   "source": [
    "# To check: \n",
    "the accuracy when I ran it has fallen slightly (by 1%). I wanted to clarify using randomisedCV, I understand that we did it because it is more accurate and specific for hyperparameter search spaces. I wanted to clarify because your comment says you did a GRIDSEARCHCV, but the code is for a randomisedsearchCV. Howvever, my computer is unable to run the code for hyperparameter tuning, probably due to memory issues. I don't know if there is a way to make it more efficient, or it is really just my computer."
   ]
  }
 ],
 "metadata": {
  "kernelspec": {
   "display_name": "Python 3 (ipykernel)",
   "language": "python",
   "name": "python3"
  },
  "language_info": {
   "codemirror_mode": {
    "name": "ipython",
    "version": 3
   },
   "file_extension": ".py",
   "mimetype": "text/x-python",
   "name": "python",
   "nbconvert_exporter": "python",
   "pygments_lexer": "ipython3",
   "version": "3.11.5"
  }
 },
 "nbformat": 4,
 "nbformat_minor": 5
}
